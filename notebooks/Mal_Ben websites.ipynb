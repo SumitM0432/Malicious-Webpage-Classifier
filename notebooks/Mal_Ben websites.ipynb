{
 "cells": [
  {
   "cell_type": "code",
   "execution_count": 1,
   "metadata": {},
   "outputs": [
    {
     "data": {
      "text/html": [
       "\n",
       "<style>\n",
       "    div#notebook-container    { width: 85%; }\n",
       "    div#menubar-container     { width: 65%; }\n",
       "    div#maintoolbar-container { width: 99%; }\n",
       "</style>\n"
      ],
      "text/plain": [
       "<IPython.core.display.HTML object>"
      ]
     },
     "metadata": {},
     "output_type": "display_data"
    }
   ],
   "source": [
    "from IPython.display import display, HTML\n",
    "import json\n",
    "import warnings\n",
    "warnings.filterwarnings('ignore')\n",
    "\n",
    "display(HTML(data=\"\"\"\n",
    "<style>\n",
    "    div#notebook-container    { width: 85%; }\n",
    "    div#menubar-container     { width: 65%; }\n",
    "    div#maintoolbar-container { width: 99%; }\n",
    "</style>\n",
    "\"\"\"))\n",
    "\n",
    "\n",
    "# with open(\"contractions.json\", \"w\") as cv:\n",
    "#     json.dump(contractions, cv)\n",
    "    \n",
    "c = open(\"contractions.json\")\n",
    "contractions = json.load(c)"
   ]
  },
  {
   "cell_type": "code",
   "execution_count": 37,
   "metadata": {},
   "outputs": [],
   "source": [
    "import plotly.graph_objects as go\n",
    "import plotly.express as px"
   ]
  },
  {
   "cell_type": "code",
   "execution_count": 34,
   "metadata": {},
   "outputs": [],
   "source": [
    "count = pd.read_csv('tableconvert_csv_pkcsig.csv')"
   ]
  },
  {
   "cell_type": "code",
   "execution_count": 53,
   "metadata": {},
   "outputs": [
    {
     "data": {
      "application/vnd.plotly.v1+json": {
       "config": {
        "plotlyServerURL": "https://plot.ly"
       },
       "data": [
        {
         "coloraxis": "coloraxis",
         "geo": "geo",
         "hovertemplate": "locations=%{location}<br>top=%{z}<extra></extra>",
         "locations": [
          "AFG",
          "ALB",
          "DZA",
          "ASM",
          "AND",
          "AGO",
          "AIA",
          "ATA",
          "ATG",
          "ARG",
          "ARM",
          "ABW",
          "AUS",
          "AUT",
          "AZE",
          "BHS",
          "BHR",
          "BGD",
          "BRB",
          "BLR",
          "BEL",
          "BLZ",
          "BEN",
          "BMU",
          "BTN",
          "BOL",
          "BOL",
          "BIH",
          "BWA",
          "BVT",
          "BRA",
          "IOT",
          "BRN",
          "BRN",
          "BGR",
          "BFA",
          "BDI",
          "KHM",
          "CMR",
          "CAN",
          "CPV",
          "CYM",
          "CAF",
          "TCD",
          "CHL",
          "CHN",
          "CXR",
          "CCK",
          "COL",
          "COM",
          "COG",
          "COD",
          "COK",
          "CRI",
          "CIV",
          "CIV",
          "HRV",
          "CUB",
          "CYP",
          "CZE",
          "DNK",
          "DJI",
          "DMA",
          "DOM",
          "ECU",
          "EGY",
          "SLV",
          "GNQ",
          "ERI",
          "EST",
          "ETH",
          "FLK",
          "FRO",
          "FJI",
          "FIN",
          "FRA",
          "GUF",
          "PYF",
          "ATF",
          "GAB",
          "GMB",
          "GEO",
          "DEU",
          "GHA",
          "GIB",
          "GRC",
          "GRL",
          "GRD",
          "GLP",
          "GUM",
          "GTM",
          "GGY",
          "GIN",
          "GNB",
          "GUY",
          "HTI",
          "HMD",
          "VAT",
          "HND",
          "HKG",
          "HUN",
          "ISL",
          "IND",
          "IDN",
          "IRN",
          "IRQ",
          "IRL",
          "IMN",
          "ISR",
          "ITA",
          "JAM",
          "JPN",
          "JEY",
          "JOR",
          "KAZ",
          "KEN",
          "KIR",
          "PRK",
          "KOR",
          "KOR",
          "KWT",
          "KGZ",
          "LAO",
          "LVA",
          "LBN",
          "LSO",
          "LBR",
          "LBY",
          "LBY",
          "LIE",
          "LTU",
          "LUX",
          "MAC",
          "MKD",
          "MDG",
          "MWI",
          "MYS",
          "MDV",
          "MLI",
          "MLT",
          "MHL",
          "MTQ",
          "MRT",
          "MUS",
          "MYT",
          "MEX",
          "FSM",
          "MDA",
          "MCO",
          "MNG",
          "MNE",
          "MSR",
          "MAR",
          "MOZ",
          "MMR",
          "MMR",
          "NAM",
          "NRU",
          "NPL",
          "NLD",
          "ANT",
          "NCL",
          "NZL",
          "NIC",
          "NER",
          "NGA",
          "NIU",
          "NFK",
          "MNP",
          "NOR",
          "OMN",
          "PAK",
          "PLW",
          "PSE",
          "PAN",
          "PNG",
          "PRY",
          "PER",
          "PHL",
          "PCN",
          "POL",
          "PRT",
          "PRI",
          "QAT",
          "REU",
          "ROU",
          "RUS",
          "RUS",
          "RWA",
          "SHN",
          "KNA",
          "LCA",
          "SPM",
          "VCT",
          "VCT",
          "VCT",
          "WSM",
          "SMR",
          "STP",
          "SAU",
          "SEN",
          "SRB",
          "SYC",
          "SLE",
          "SGP",
          "SVK",
          "SVN",
          "SLB",
          "SOM",
          "ZAF",
          "SGS",
          "ESP",
          "LKA",
          "SDN",
          "SUR",
          "SJM",
          "SWZ",
          "SWE",
          "CHE",
          "SYR",
          "TWN",
          "TWN",
          "TJK",
          "TZA",
          "THA",
          "TLS",
          "TGO",
          "TKL",
          "TON",
          "TTO",
          "TTO",
          "TUN",
          "TUR",
          "TKM",
          "TCA",
          "TUV",
          "UGA",
          "UKR",
          "ARE",
          "GBR",
          "USA",
          "UMI",
          "URY",
          "UZB",
          "VUT",
          "VEN",
          "VEN",
          "VNM",
          "VNM",
          "VGB",
          "VIR",
          "WLF",
          "ESH",
          "YEM",
          "ZMB",
          "ZWE"
         ],
         "name": "",
         "type": "choropleth",
         "z": [
          0,
          0,
          0,
          0,
          0,
          0,
          0,
          0,
          0,
          0,
          0,
          0,
          0,
          0,
          0,
          0,
          0,
          0,
          0,
          0,
          0,
          0,
          0,
          0,
          0,
          0,
          0,
          0,
          0,
          0,
          0,
          0,
          0,
          0,
          0,
          0,
          0,
          0,
          0,
          0,
          0,
          0,
          0,
          0,
          0,
          0,
          0,
          0,
          0,
          0,
          0,
          0,
          0,
          0,
          0,
          0,
          0,
          0,
          0,
          0,
          0,
          0,
          0,
          0,
          0,
          0,
          0,
          0,
          0,
          0,
          0,
          0,
          0,
          0,
          0,
          0,
          0,
          0,
          0,
          0,
          0,
          0,
          0,
          0,
          0,
          0,
          0,
          0,
          0,
          0,
          0,
          0,
          0,
          0,
          0,
          0,
          0,
          0,
          0,
          0,
          0,
          0,
          0,
          0,
          0,
          0,
          0,
          0,
          0,
          0,
          0,
          0,
          0,
          0,
          0,
          0,
          0,
          0,
          0,
          0,
          0,
          0,
          0,
          0,
          0,
          0,
          0,
          0,
          0,
          0,
          0,
          0,
          0,
          0,
          0,
          0,
          0,
          0,
          0,
          0,
          0,
          0,
          0,
          0,
          0,
          0,
          0,
          0,
          0,
          0,
          0,
          0,
          0,
          0,
          0,
          0,
          0,
          0,
          0,
          0,
          0,
          0,
          0,
          0,
          0,
          0,
          0,
          0,
          0,
          0,
          0,
          0,
          0,
          0,
          0,
          0,
          0,
          0,
          0,
          0,
          0,
          0,
          0,
          0,
          0,
          0,
          0,
          0,
          0,
          0,
          0,
          0,
          0,
          0,
          0,
          0,
          0,
          0,
          0,
          0,
          0,
          0,
          0,
          0,
          0,
          0,
          0,
          0,
          0,
          0,
          0,
          0,
          0,
          0,
          0,
          0,
          0,
          0,
          0,
          0,
          0,
          0,
          0,
          0,
          0,
          0,
          0,
          0,
          0,
          0,
          0,
          0,
          0,
          0,
          0,
          0,
          0,
          0,
          0,
          0,
          1,
          0,
          0,
          0,
          0,
          0,
          0,
          0,
          0,
          0,
          0,
          0,
          0,
          0,
          0,
          0
         ]
        }
       ],
       "layout": {
        "coloraxis": {
         "colorbar": {
          "title": {
           "text": "top"
          }
         },
         "colorscale": [
          [
           0,
           "#0d0887"
          ],
          [
           0.1111111111111111,
           "#46039f"
          ],
          [
           0.2222222222222222,
           "#7201a8"
          ],
          [
           0.3333333333333333,
           "#9c179e"
          ],
          [
           0.4444444444444444,
           "#bd3786"
          ],
          [
           0.5555555555555556,
           "#d8576b"
          ],
          [
           0.6666666666666666,
           "#ed7953"
          ],
          [
           0.7777777777777778,
           "#fb9f3a"
          ],
          [
           0.8888888888888888,
           "#fdca26"
          ],
          [
           1,
           "#f0f921"
          ]
         ]
        },
        "geo": {
         "center": {},
         "domain": {
          "x": [
           0,
           1
          ],
          "y": [
           0,
           1
          ]
         }
        },
        "legend": {
         "tracegroupgap": 0
        },
        "margin": {
         "t": 60
        },
        "template": {
         "data": {
          "bar": [
           {
            "error_x": {
             "color": "#2a3f5f"
            },
            "error_y": {
             "color": "#2a3f5f"
            },
            "marker": {
             "line": {
              "color": "#E5ECF6",
              "width": 0.5
             }
            },
            "type": "bar"
           }
          ],
          "barpolar": [
           {
            "marker": {
             "line": {
              "color": "#E5ECF6",
              "width": 0.5
             }
            },
            "type": "barpolar"
           }
          ],
          "carpet": [
           {
            "aaxis": {
             "endlinecolor": "#2a3f5f",
             "gridcolor": "white",
             "linecolor": "white",
             "minorgridcolor": "white",
             "startlinecolor": "#2a3f5f"
            },
            "baxis": {
             "endlinecolor": "#2a3f5f",
             "gridcolor": "white",
             "linecolor": "white",
             "minorgridcolor": "white",
             "startlinecolor": "#2a3f5f"
            },
            "type": "carpet"
           }
          ],
          "choropleth": [
           {
            "colorbar": {
             "outlinewidth": 0,
             "ticks": ""
            },
            "type": "choropleth"
           }
          ],
          "contour": [
           {
            "colorbar": {
             "outlinewidth": 0,
             "ticks": ""
            },
            "colorscale": [
             [
              0,
              "#0d0887"
             ],
             [
              0.1111111111111111,
              "#46039f"
             ],
             [
              0.2222222222222222,
              "#7201a8"
             ],
             [
              0.3333333333333333,
              "#9c179e"
             ],
             [
              0.4444444444444444,
              "#bd3786"
             ],
             [
              0.5555555555555556,
              "#d8576b"
             ],
             [
              0.6666666666666666,
              "#ed7953"
             ],
             [
              0.7777777777777778,
              "#fb9f3a"
             ],
             [
              0.8888888888888888,
              "#fdca26"
             ],
             [
              1,
              "#f0f921"
             ]
            ],
            "type": "contour"
           }
          ],
          "contourcarpet": [
           {
            "colorbar": {
             "outlinewidth": 0,
             "ticks": ""
            },
            "type": "contourcarpet"
           }
          ],
          "heatmap": [
           {
            "colorbar": {
             "outlinewidth": 0,
             "ticks": ""
            },
            "colorscale": [
             [
              0,
              "#0d0887"
             ],
             [
              0.1111111111111111,
              "#46039f"
             ],
             [
              0.2222222222222222,
              "#7201a8"
             ],
             [
              0.3333333333333333,
              "#9c179e"
             ],
             [
              0.4444444444444444,
              "#bd3786"
             ],
             [
              0.5555555555555556,
              "#d8576b"
             ],
             [
              0.6666666666666666,
              "#ed7953"
             ],
             [
              0.7777777777777778,
              "#fb9f3a"
             ],
             [
              0.8888888888888888,
              "#fdca26"
             ],
             [
              1,
              "#f0f921"
             ]
            ],
            "type": "heatmap"
           }
          ],
          "heatmapgl": [
           {
            "colorbar": {
             "outlinewidth": 0,
             "ticks": ""
            },
            "colorscale": [
             [
              0,
              "#0d0887"
             ],
             [
              0.1111111111111111,
              "#46039f"
             ],
             [
              0.2222222222222222,
              "#7201a8"
             ],
             [
              0.3333333333333333,
              "#9c179e"
             ],
             [
              0.4444444444444444,
              "#bd3786"
             ],
             [
              0.5555555555555556,
              "#d8576b"
             ],
             [
              0.6666666666666666,
              "#ed7953"
             ],
             [
              0.7777777777777778,
              "#fb9f3a"
             ],
             [
              0.8888888888888888,
              "#fdca26"
             ],
             [
              1,
              "#f0f921"
             ]
            ],
            "type": "heatmapgl"
           }
          ],
          "histogram": [
           {
            "marker": {
             "colorbar": {
              "outlinewidth": 0,
              "ticks": ""
             }
            },
            "type": "histogram"
           }
          ],
          "histogram2d": [
           {
            "colorbar": {
             "outlinewidth": 0,
             "ticks": ""
            },
            "colorscale": [
             [
              0,
              "#0d0887"
             ],
             [
              0.1111111111111111,
              "#46039f"
             ],
             [
              0.2222222222222222,
              "#7201a8"
             ],
             [
              0.3333333333333333,
              "#9c179e"
             ],
             [
              0.4444444444444444,
              "#bd3786"
             ],
             [
              0.5555555555555556,
              "#d8576b"
             ],
             [
              0.6666666666666666,
              "#ed7953"
             ],
             [
              0.7777777777777778,
              "#fb9f3a"
             ],
             [
              0.8888888888888888,
              "#fdca26"
             ],
             [
              1,
              "#f0f921"
             ]
            ],
            "type": "histogram2d"
           }
          ],
          "histogram2dcontour": [
           {
            "colorbar": {
             "outlinewidth": 0,
             "ticks": ""
            },
            "colorscale": [
             [
              0,
              "#0d0887"
             ],
             [
              0.1111111111111111,
              "#46039f"
             ],
             [
              0.2222222222222222,
              "#7201a8"
             ],
             [
              0.3333333333333333,
              "#9c179e"
             ],
             [
              0.4444444444444444,
              "#bd3786"
             ],
             [
              0.5555555555555556,
              "#d8576b"
             ],
             [
              0.6666666666666666,
              "#ed7953"
             ],
             [
              0.7777777777777778,
              "#fb9f3a"
             ],
             [
              0.8888888888888888,
              "#fdca26"
             ],
             [
              1,
              "#f0f921"
             ]
            ],
            "type": "histogram2dcontour"
           }
          ],
          "mesh3d": [
           {
            "colorbar": {
             "outlinewidth": 0,
             "ticks": ""
            },
            "type": "mesh3d"
           }
          ],
          "parcoords": [
           {
            "line": {
             "colorbar": {
              "outlinewidth": 0,
              "ticks": ""
             }
            },
            "type": "parcoords"
           }
          ],
          "pie": [
           {
            "automargin": true,
            "type": "pie"
           }
          ],
          "scatter": [
           {
            "marker": {
             "colorbar": {
              "outlinewidth": 0,
              "ticks": ""
             }
            },
            "type": "scatter"
           }
          ],
          "scatter3d": [
           {
            "line": {
             "colorbar": {
              "outlinewidth": 0,
              "ticks": ""
             }
            },
            "marker": {
             "colorbar": {
              "outlinewidth": 0,
              "ticks": ""
             }
            },
            "type": "scatter3d"
           }
          ],
          "scattercarpet": [
           {
            "marker": {
             "colorbar": {
              "outlinewidth": 0,
              "ticks": ""
             }
            },
            "type": "scattercarpet"
           }
          ],
          "scattergeo": [
           {
            "marker": {
             "colorbar": {
              "outlinewidth": 0,
              "ticks": ""
             }
            },
            "type": "scattergeo"
           }
          ],
          "scattergl": [
           {
            "marker": {
             "colorbar": {
              "outlinewidth": 0,
              "ticks": ""
             }
            },
            "type": "scattergl"
           }
          ],
          "scattermapbox": [
           {
            "marker": {
             "colorbar": {
              "outlinewidth": 0,
              "ticks": ""
             }
            },
            "type": "scattermapbox"
           }
          ],
          "scatterpolar": [
           {
            "marker": {
             "colorbar": {
              "outlinewidth": 0,
              "ticks": ""
             }
            },
            "type": "scatterpolar"
           }
          ],
          "scatterpolargl": [
           {
            "marker": {
             "colorbar": {
              "outlinewidth": 0,
              "ticks": ""
             }
            },
            "type": "scatterpolargl"
           }
          ],
          "scatterternary": [
           {
            "marker": {
             "colorbar": {
              "outlinewidth": 0,
              "ticks": ""
             }
            },
            "type": "scatterternary"
           }
          ],
          "surface": [
           {
            "colorbar": {
             "outlinewidth": 0,
             "ticks": ""
            },
            "colorscale": [
             [
              0,
              "#0d0887"
             ],
             [
              0.1111111111111111,
              "#46039f"
             ],
             [
              0.2222222222222222,
              "#7201a8"
             ],
             [
              0.3333333333333333,
              "#9c179e"
             ],
             [
              0.4444444444444444,
              "#bd3786"
             ],
             [
              0.5555555555555556,
              "#d8576b"
             ],
             [
              0.6666666666666666,
              "#ed7953"
             ],
             [
              0.7777777777777778,
              "#fb9f3a"
             ],
             [
              0.8888888888888888,
              "#fdca26"
             ],
             [
              1,
              "#f0f921"
             ]
            ],
            "type": "surface"
           }
          ],
          "table": [
           {
            "cells": {
             "fill": {
              "color": "#EBF0F8"
             },
             "line": {
              "color": "white"
             }
            },
            "header": {
             "fill": {
              "color": "#C8D4E3"
             },
             "line": {
              "color": "white"
             }
            },
            "type": "table"
           }
          ]
         },
         "layout": {
          "annotationdefaults": {
           "arrowcolor": "#2a3f5f",
           "arrowhead": 0,
           "arrowwidth": 1
          },
          "autotypenumbers": "strict",
          "coloraxis": {
           "colorbar": {
            "outlinewidth": 0,
            "ticks": ""
           }
          },
          "colorscale": {
           "diverging": [
            [
             0,
             "#8e0152"
            ],
            [
             0.1,
             "#c51b7d"
            ],
            [
             0.2,
             "#de77ae"
            ],
            [
             0.3,
             "#f1b6da"
            ],
            [
             0.4,
             "#fde0ef"
            ],
            [
             0.5,
             "#f7f7f7"
            ],
            [
             0.6,
             "#e6f5d0"
            ],
            [
             0.7,
             "#b8e186"
            ],
            [
             0.8,
             "#7fbc41"
            ],
            [
             0.9,
             "#4d9221"
            ],
            [
             1,
             "#276419"
            ]
           ],
           "sequential": [
            [
             0,
             "#0d0887"
            ],
            [
             0.1111111111111111,
             "#46039f"
            ],
            [
             0.2222222222222222,
             "#7201a8"
            ],
            [
             0.3333333333333333,
             "#9c179e"
            ],
            [
             0.4444444444444444,
             "#bd3786"
            ],
            [
             0.5555555555555556,
             "#d8576b"
            ],
            [
             0.6666666666666666,
             "#ed7953"
            ],
            [
             0.7777777777777778,
             "#fb9f3a"
            ],
            [
             0.8888888888888888,
             "#fdca26"
            ],
            [
             1,
             "#f0f921"
            ]
           ],
           "sequentialminus": [
            [
             0,
             "#0d0887"
            ],
            [
             0.1111111111111111,
             "#46039f"
            ],
            [
             0.2222222222222222,
             "#7201a8"
            ],
            [
             0.3333333333333333,
             "#9c179e"
            ],
            [
             0.4444444444444444,
             "#bd3786"
            ],
            [
             0.5555555555555556,
             "#d8576b"
            ],
            [
             0.6666666666666666,
             "#ed7953"
            ],
            [
             0.7777777777777778,
             "#fb9f3a"
            ],
            [
             0.8888888888888888,
             "#fdca26"
            ],
            [
             1,
             "#f0f921"
            ]
           ]
          },
          "colorway": [
           "#636efa",
           "#EF553B",
           "#00cc96",
           "#ab63fa",
           "#FFA15A",
           "#19d3f3",
           "#FF6692",
           "#B6E880",
           "#FF97FF",
           "#FECB52"
          ],
          "font": {
           "color": "#2a3f5f"
          },
          "geo": {
           "bgcolor": "white",
           "lakecolor": "white",
           "landcolor": "#E5ECF6",
           "showlakes": true,
           "showland": true,
           "subunitcolor": "white"
          },
          "hoverlabel": {
           "align": "left"
          },
          "hovermode": "closest",
          "mapbox": {
           "style": "light"
          },
          "paper_bgcolor": "white",
          "plot_bgcolor": "#E5ECF6",
          "polar": {
           "angularaxis": {
            "gridcolor": "white",
            "linecolor": "white",
            "ticks": ""
           },
           "bgcolor": "#E5ECF6",
           "radialaxis": {
            "gridcolor": "white",
            "linecolor": "white",
            "ticks": ""
           }
          },
          "scene": {
           "xaxis": {
            "backgroundcolor": "#E5ECF6",
            "gridcolor": "white",
            "gridwidth": 2,
            "linecolor": "white",
            "showbackground": true,
            "ticks": "",
            "zerolinecolor": "white"
           },
           "yaxis": {
            "backgroundcolor": "#E5ECF6",
            "gridcolor": "white",
            "gridwidth": 2,
            "linecolor": "white",
            "showbackground": true,
            "ticks": "",
            "zerolinecolor": "white"
           },
           "zaxis": {
            "backgroundcolor": "#E5ECF6",
            "gridcolor": "white",
            "gridwidth": 2,
            "linecolor": "white",
            "showbackground": true,
            "ticks": "",
            "zerolinecolor": "white"
           }
          },
          "shapedefaults": {
           "line": {
            "color": "#2a3f5f"
           }
          },
          "ternary": {
           "aaxis": {
            "gridcolor": "white",
            "linecolor": "white",
            "ticks": ""
           },
           "baxis": {
            "gridcolor": "white",
            "linecolor": "white",
            "ticks": ""
           },
           "bgcolor": "#E5ECF6",
           "caxis": {
            "gridcolor": "white",
            "linecolor": "white",
            "ticks": ""
           }
          },
          "title": {
           "x": 0.05
          },
          "xaxis": {
           "automargin": true,
           "gridcolor": "white",
           "linecolor": "white",
           "ticks": "",
           "title": {
            "standoff": 15
           },
           "zerolinecolor": "white",
           "zerolinewidth": 2
          },
          "yaxis": {
           "automargin": true,
           "gridcolor": "white",
           "linecolor": "white",
           "ticks": "",
           "title": {
            "standoff": 15
           },
           "zerolinecolor": "white",
           "zerolinewidth": 2
          }
         }
        }
       }
      }
     },
     "metadata": {},
     "output_type": "display_data"
    }
   ],
   "source": [
    "# Choropleth Map\n",
    "fig = px.choropleth(df, locations = df.index.tolist(),\n",
    "                    color = \"top\")\n",
    "fig.show()"
   ]
  },
  {
   "cell_type": "code",
   "execution_count": 41,
   "metadata": {},
   "outputs": [],
   "source": [
    "a = 'United States'\n",
    "count.loc[count.Country == a, 'top'] = 1"
   ]
  },
  {
   "cell_type": "code",
   "execution_count": 43,
   "metadata": {},
   "outputs": [
    {
     "data": {
      "text/html": [
       "<div>\n",
       "<style scoped>\n",
       "    .dataframe tbody tr th:only-of-type {\n",
       "        vertical-align: middle;\n",
       "    }\n",
       "\n",
       "    .dataframe tbody tr th {\n",
       "        vertical-align: top;\n",
       "    }\n",
       "\n",
       "    .dataframe thead th {\n",
       "        text-align: right;\n",
       "    }\n",
       "</style>\n",
       "<table border=\"1\" class=\"dataframe\">\n",
       "  <thead>\n",
       "    <tr style=\"text-align: right;\">\n",
       "      <th></th>\n",
       "      <th>Country</th>\n",
       "      <th>Alpha-2 code</th>\n",
       "      <th>Alpha-3 code</th>\n",
       "      <th>Numeric code</th>\n",
       "      <th>Latitude (average)</th>\n",
       "      <th>Longitude (average)</th>\n",
       "      <th>top</th>\n",
       "    </tr>\n",
       "  </thead>\n",
       "  <tbody>\n",
       "    <tr>\n",
       "      <th>240</th>\n",
       "      <td>United States</td>\n",
       "      <td>US</td>\n",
       "      <td>USA</td>\n",
       "      <td>840</td>\n",
       "      <td>38.0</td>\n",
       "      <td>-97.0</td>\n",
       "      <td>1</td>\n",
       "    </tr>\n",
       "  </tbody>\n",
       "</table>\n",
       "</div>"
      ],
      "text/plain": [
       "           Country Alpha-2 code Alpha-3 code  Numeric code  \\\n",
       "240  United States           US          USA           840   \n",
       "\n",
       "     Latitude (average)  Longitude (average)  top  \n",
       "240                38.0                -97.0    1  "
      ]
     },
     "execution_count": 43,
     "metadata": {},
     "output_type": "execute_result"
    }
   ],
   "source": [
    "count.loc[count.Country == a, :]"
   ]
  },
  {
   "cell_type": "code",
   "execution_count": 49,
   "metadata": {},
   "outputs": [],
   "source": [
    "df = count[['Alpha-3 code', 'top']]\n",
    "df.set_index('Alpha-3 code', drop = True, inplace = True)"
   ]
  },
  {
   "cell_type": "code",
   "execution_count": 52,
   "metadata": {},
   "outputs": [
    {
     "data": {
      "text/html": [
       "<div>\n",
       "<style scoped>\n",
       "    .dataframe tbody tr th:only-of-type {\n",
       "        vertical-align: middle;\n",
       "    }\n",
       "\n",
       "    .dataframe tbody tr th {\n",
       "        vertical-align: top;\n",
       "    }\n",
       "\n",
       "    .dataframe thead th {\n",
       "        text-align: right;\n",
       "    }\n",
       "</style>\n",
       "<table border=\"1\" class=\"dataframe\">\n",
       "  <thead>\n",
       "    <tr style=\"text-align: right;\">\n",
       "      <th></th>\n",
       "      <th>top</th>\n",
       "    </tr>\n",
       "    <tr>\n",
       "      <th>Alpha-3 code</th>\n",
       "      <th></th>\n",
       "    </tr>\n",
       "  </thead>\n",
       "  <tbody>\n",
       "    <tr>\n",
       "      <th>USA</th>\n",
       "      <td>1</td>\n",
       "    </tr>\n",
       "  </tbody>\n",
       "</table>\n",
       "</div>"
      ],
      "text/plain": [
       "              top\n",
       "Alpha-3 code     \n",
       "USA             1"
      ]
     },
     "execution_count": 52,
     "metadata": {},
     "output_type": "execute_result"
    }
   ],
   "source": [
    "df.loc[df.index == 'USA', :]"
   ]
  },
  {
   "cell_type": "code",
   "execution_count": 2,
   "metadata": {},
   "outputs": [],
   "source": [
    "import pandas as pd\n",
    "import numpy as np\n",
    "\n",
    "from sklearn.preprocessing import LabelEncoder, StandardScaler"
   ]
  },
  {
   "cell_type": "code",
   "execution_count": 3,
   "metadata": {},
   "outputs": [],
   "source": [
    "df_train = pd.read_csv(\"Webpages_Classification_train_data.csv\", nrows = 100000)\n",
    "df_train.drop(columns = \"Unnamed: 0\", inplace = True)\n",
    "\n",
    "# df_test = pd.read_csv(\"Webpages_Classification_test_data.csv\", nrows = 100)\n",
    "# df_test.drop(columns = \"Unnamed: 0\", inplace = True)"
   ]
  },
  {
   "cell_type": "code",
   "execution_count": 7,
   "metadata": {},
   "outputs": [
    {
     "data": {
      "text/html": [
       "<div>\n",
       "<style scoped>\n",
       "    .dataframe tbody tr th:only-of-type {\n",
       "        vertical-align: middle;\n",
       "    }\n",
       "\n",
       "    .dataframe tbody tr th {\n",
       "        vertical-align: top;\n",
       "    }\n",
       "\n",
       "    .dataframe thead th {\n",
       "        text-align: right;\n",
       "    }\n",
       "</style>\n",
       "<table border=\"1\" class=\"dataframe\">\n",
       "  <thead>\n",
       "    <tr style=\"text-align: right;\">\n",
       "      <th></th>\n",
       "      <th>url</th>\n",
       "      <th>url_len</th>\n",
       "      <th>ip_add</th>\n",
       "      <th>geo_loc</th>\n",
       "      <th>tld</th>\n",
       "      <th>who_is</th>\n",
       "      <th>https</th>\n",
       "      <th>js_len</th>\n",
       "      <th>js_obf_len</th>\n",
       "      <th>content</th>\n",
       "      <th>label</th>\n",
       "    </tr>\n",
       "  </thead>\n",
       "  <tbody>\n",
       "    <tr>\n",
       "      <th>0</th>\n",
       "      <td>http://members.tripod.com/russiastation/</td>\n",
       "      <td>40</td>\n",
       "      <td>42.77.221.155</td>\n",
       "      <td>Taiwan</td>\n",
       "      <td>com</td>\n",
       "      <td>complete</td>\n",
       "      <td>yes</td>\n",
       "      <td>58.0</td>\n",
       "      <td>0.0</td>\n",
       "      <td>Named themselves charged particles in a manly ...</td>\n",
       "      <td>good</td>\n",
       "    </tr>\n",
       "    <tr>\n",
       "      <th>1</th>\n",
       "      <td>http://www.ddj.com/cpp/184403822</td>\n",
       "      <td>32</td>\n",
       "      <td>3.211.202.180</td>\n",
       "      <td>United States</td>\n",
       "      <td>com</td>\n",
       "      <td>complete</td>\n",
       "      <td>yes</td>\n",
       "      <td>52.5</td>\n",
       "      <td>0.0</td>\n",
       "      <td>And filipino field \\n \\n \\n \\n \\n \\n \\n \\n the...</td>\n",
       "      <td>good</td>\n",
       "    </tr>\n",
       "    <tr>\n",
       "      <th>2</th>\n",
       "      <td>http://www.naef-usa.com/</td>\n",
       "      <td>24</td>\n",
       "      <td>24.232.54.41</td>\n",
       "      <td>Argentina</td>\n",
       "      <td>com</td>\n",
       "      <td>complete</td>\n",
       "      <td>yes</td>\n",
       "      <td>103.5</td>\n",
       "      <td>0.0</td>\n",
       "      <td>Took in cognitivism, whose adherents argue for...</td>\n",
       "      <td>good</td>\n",
       "    </tr>\n",
       "    <tr>\n",
       "      <th>3</th>\n",
       "      <td>http://www.ff-b2b.de/</td>\n",
       "      <td>21</td>\n",
       "      <td>147.22.38.45</td>\n",
       "      <td>United States</td>\n",
       "      <td>de</td>\n",
       "      <td>incomplete</td>\n",
       "      <td>no</td>\n",
       "      <td>720.0</td>\n",
       "      <td>532.8</td>\n",
       "      <td>fire cumshot sodomize footaction tortur failed...</td>\n",
       "      <td>bad</td>\n",
       "    </tr>\n",
       "    <tr>\n",
       "      <th>4</th>\n",
       "      <td>http://us.imdb.com/title/tt0176269/</td>\n",
       "      <td>35</td>\n",
       "      <td>205.30.239.85</td>\n",
       "      <td>United States</td>\n",
       "      <td>com</td>\n",
       "      <td>complete</td>\n",
       "      <td>yes</td>\n",
       "      <td>46.5</td>\n",
       "      <td>0.0</td>\n",
       "      <td>Levant, also monsignor georges. In 1800, lists...</td>\n",
       "      <td>good</td>\n",
       "    </tr>\n",
       "  </tbody>\n",
       "</table>\n",
       "</div>"
      ],
      "text/plain": [
       "                                        url  url_len         ip_add  \\\n",
       "0  http://members.tripod.com/russiastation/       40  42.77.221.155   \n",
       "1          http://www.ddj.com/cpp/184403822       32  3.211.202.180   \n",
       "2                  http://www.naef-usa.com/       24   24.232.54.41   \n",
       "3                     http://www.ff-b2b.de/       21   147.22.38.45   \n",
       "4       http://us.imdb.com/title/tt0176269/       35  205.30.239.85   \n",
       "\n",
       "         geo_loc  tld      who_is https  js_len  js_obf_len  \\\n",
       "0         Taiwan  com    complete   yes    58.0         0.0   \n",
       "1  United States  com    complete   yes    52.5         0.0   \n",
       "2      Argentina  com    complete   yes   103.5         0.0   \n",
       "3  United States   de  incomplete    no   720.0       532.8   \n",
       "4  United States  com    complete   yes    46.5         0.0   \n",
       "\n",
       "                                             content label  \n",
       "0  Named themselves charged particles in a manly ...  good  \n",
       "1  And filipino field \\n \\n \\n \\n \\n \\n \\n \\n the...  good  \n",
       "2  Took in cognitivism, whose adherents argue for...  good  \n",
       "3  fire cumshot sodomize footaction tortur failed...   bad  \n",
       "4  Levant, also monsignor georges. In 1800, lists...  good  "
      ]
     },
     "execution_count": 7,
     "metadata": {},
     "output_type": "execute_result"
    }
   ],
   "source": [
    "df_train.head()"
   ]
  },
  {
   "cell_type": "code",
   "execution_count": null,
   "metadata": {},
   "outputs": [],
   "source": []
  },
  {
   "cell_type": "code",
   "execution_count": 9,
   "metadata": {},
   "outputs": [],
   "source": [
    "df_train['content_len'] = df_train['content'].apply(lambda x: len(x))"
   ]
  },
  {
   "cell_type": "code",
   "execution_count": 10,
   "metadata": {
    "scrolled": true
   },
   "outputs": [
    {
     "data": {
      "text/html": [
       "<div>\n",
       "<style scoped>\n",
       "    .dataframe tbody tr th:only-of-type {\n",
       "        vertical-align: middle;\n",
       "    }\n",
       "\n",
       "    .dataframe tbody tr th {\n",
       "        vertical-align: top;\n",
       "    }\n",
       "\n",
       "    .dataframe thead th {\n",
       "        text-align: right;\n",
       "    }\n",
       "</style>\n",
       "<table border=\"1\" class=\"dataframe\">\n",
       "  <thead>\n",
       "    <tr style=\"text-align: right;\">\n",
       "      <th></th>\n",
       "      <th>url</th>\n",
       "      <th>url_len</th>\n",
       "      <th>ip_add</th>\n",
       "      <th>geo_loc</th>\n",
       "      <th>tld</th>\n",
       "      <th>who_is</th>\n",
       "      <th>https</th>\n",
       "      <th>js_len</th>\n",
       "      <th>js_obf_len</th>\n",
       "      <th>content</th>\n",
       "      <th>label</th>\n",
       "      <th>content_len</th>\n",
       "    </tr>\n",
       "  </thead>\n",
       "  <tbody>\n",
       "    <tr>\n",
       "      <th>0</th>\n",
       "      <td>http://members.tripod.com/russiastation/</td>\n",
       "      <td>40</td>\n",
       "      <td>42.77.221.155</td>\n",
       "      <td>Taiwan</td>\n",
       "      <td>com</td>\n",
       "      <td>complete</td>\n",
       "      <td>yes</td>\n",
       "      <td>58.0</td>\n",
       "      <td>0.0</td>\n",
       "      <td>Named themselves charged particles in a manly ...</td>\n",
       "      <td>good</td>\n",
       "      <td>1155</td>\n",
       "    </tr>\n",
       "    <tr>\n",
       "      <th>1</th>\n",
       "      <td>http://www.ddj.com/cpp/184403822</td>\n",
       "      <td>32</td>\n",
       "      <td>3.211.202.180</td>\n",
       "      <td>United States</td>\n",
       "      <td>com</td>\n",
       "      <td>complete</td>\n",
       "      <td>yes</td>\n",
       "      <td>52.5</td>\n",
       "      <td>0.0</td>\n",
       "      <td>And filipino field \\n \\n \\n \\n \\n \\n \\n \\n the...</td>\n",
       "      <td>good</td>\n",
       "      <td>611</td>\n",
       "    </tr>\n",
       "    <tr>\n",
       "      <th>2</th>\n",
       "      <td>http://www.naef-usa.com/</td>\n",
       "      <td>24</td>\n",
       "      <td>24.232.54.41</td>\n",
       "      <td>Argentina</td>\n",
       "      <td>com</td>\n",
       "      <td>complete</td>\n",
       "      <td>yes</td>\n",
       "      <td>103.5</td>\n",
       "      <td>0.0</td>\n",
       "      <td>Took in cognitivism, whose adherents argue for...</td>\n",
       "      <td>good</td>\n",
       "      <td>1320</td>\n",
       "    </tr>\n",
       "    <tr>\n",
       "      <th>3</th>\n",
       "      <td>http://www.ff-b2b.de/</td>\n",
       "      <td>21</td>\n",
       "      <td>147.22.38.45</td>\n",
       "      <td>United States</td>\n",
       "      <td>de</td>\n",
       "      <td>incomplete</td>\n",
       "      <td>no</td>\n",
       "      <td>720.0</td>\n",
       "      <td>532.8</td>\n",
       "      <td>fire cumshot sodomize footaction tortur failed...</td>\n",
       "      <td>bad</td>\n",
       "      <td>8946</td>\n",
       "    </tr>\n",
       "    <tr>\n",
       "      <th>4</th>\n",
       "      <td>http://us.imdb.com/title/tt0176269/</td>\n",
       "      <td>35</td>\n",
       "      <td>205.30.239.85</td>\n",
       "      <td>United States</td>\n",
       "      <td>com</td>\n",
       "      <td>complete</td>\n",
       "      <td>yes</td>\n",
       "      <td>46.5</td>\n",
       "      <td>0.0</td>\n",
       "      <td>Levant, also monsignor georges. In 1800, lists...</td>\n",
       "      <td>good</td>\n",
       "      <td>722</td>\n",
       "    </tr>\n",
       "    <tr>\n",
       "      <th>...</th>\n",
       "      <td>...</td>\n",
       "      <td>...</td>\n",
       "      <td>...</td>\n",
       "      <td>...</td>\n",
       "      <td>...</td>\n",
       "      <td>...</td>\n",
       "      <td>...</td>\n",
       "      <td>...</td>\n",
       "      <td>...</td>\n",
       "      <td>...</td>\n",
       "      <td>...</td>\n",
       "      <td>...</td>\n",
       "    </tr>\n",
       "    <tr>\n",
       "      <th>99995</th>\n",
       "      <td>http://www.eqsl.cc</td>\n",
       "      <td>18</td>\n",
       "      <td>48.237.132.190</td>\n",
       "      <td>United States</td>\n",
       "      <td>cc</td>\n",
       "      <td>complete</td>\n",
       "      <td>yes</td>\n",
       "      <td>141.5</td>\n",
       "      <td>0.0</td>\n",
       "      <td>(2nd ed. sexual predators. Compounds, such not...</td>\n",
       "      <td>good</td>\n",
       "      <td>1573</td>\n",
       "    </tr>\n",
       "    <tr>\n",
       "      <th>99996</th>\n",
       "      <td>http://www.apoloportal.net/index_aaoportal_arc...</td>\n",
       "      <td>55</td>\n",
       "      <td>199.159.182.237</td>\n",
       "      <td>United States</td>\n",
       "      <td>net</td>\n",
       "      <td>complete</td>\n",
       "      <td>yes</td>\n",
       "      <td>42.0</td>\n",
       "      <td>0.0</td>\n",
       "      <td>butchdike mosshead kyke slut cunteyed carpetmu...</td>\n",
       "      <td>good</td>\n",
       "      <td>3016</td>\n",
       "    </tr>\n",
       "    <tr>\n",
       "      <th>99997</th>\n",
       "      <td>http://ip30.eti.uva.nl/bis/flora.php?selected=...</td>\n",
       "      <td>92</td>\n",
       "      <td>8.122.241.152</td>\n",
       "      <td>United States</td>\n",
       "      <td>nl</td>\n",
       "      <td>incomplete</td>\n",
       "      <td>yes</td>\n",
       "      <td>169.0</td>\n",
       "      <td>0.0</td>\n",
       "      <td>Efficacy and chicago, including northwestern m...</td>\n",
       "      <td>good</td>\n",
       "      <td>1684</td>\n",
       "    </tr>\n",
       "    <tr>\n",
       "      <th>99998</th>\n",
       "      <td>http://www.ese1.com/</td>\n",
       "      <td>20</td>\n",
       "      <td>44.206.188.35</td>\n",
       "      <td>United States</td>\n",
       "      <td>com</td>\n",
       "      <td>complete</td>\n",
       "      <td>yes</td>\n",
       "      <td>33.5</td>\n",
       "      <td>0.0</td>\n",
       "      <td>Carcassonne (362,000). the schlieffen plan to ...</td>\n",
       "      <td>good</td>\n",
       "      <td>1074</td>\n",
       "    </tr>\n",
       "    <tr>\n",
       "      <th>99999</th>\n",
       "      <td>http://nobelprize.org/literature/laureates/192...</td>\n",
       "      <td>58</td>\n",
       "      <td>87.125.119.18</td>\n",
       "      <td>Spain</td>\n",
       "      <td>org</td>\n",
       "      <td>complete</td>\n",
       "      <td>yes</td>\n",
       "      <td>196.0</td>\n",
       "      <td>0.0</td>\n",
       "      <td>157,130 households be removed to spell \"hollyw...</td>\n",
       "      <td>good</td>\n",
       "      <td>2378</td>\n",
       "    </tr>\n",
       "  </tbody>\n",
       "</table>\n",
       "<p>100000 rows × 12 columns</p>\n",
       "</div>"
      ],
      "text/plain": [
       "                                                     url  url_len  \\\n",
       "0               http://members.tripod.com/russiastation/       40   \n",
       "1                       http://www.ddj.com/cpp/184403822       32   \n",
       "2                               http://www.naef-usa.com/       24   \n",
       "3                                  http://www.ff-b2b.de/       21   \n",
       "4                    http://us.imdb.com/title/tt0176269/       35   \n",
       "...                                                  ...      ...   \n",
       "99995                                 http://www.eqsl.cc       18   \n",
       "99996  http://www.apoloportal.net/index_aaoportal_arc...       55   \n",
       "99997  http://ip30.eti.uva.nl/bis/flora.php?selected=...       92   \n",
       "99998                               http://www.ese1.com/       20   \n",
       "99999  http://nobelprize.org/literature/laureates/192...       58   \n",
       "\n",
       "                ip_add        geo_loc  tld      who_is https  js_len  \\\n",
       "0        42.77.221.155         Taiwan  com    complete   yes    58.0   \n",
       "1        3.211.202.180  United States  com    complete   yes    52.5   \n",
       "2         24.232.54.41      Argentina  com    complete   yes   103.5   \n",
       "3         147.22.38.45  United States   de  incomplete    no   720.0   \n",
       "4        205.30.239.85  United States  com    complete   yes    46.5   \n",
       "...                ...            ...  ...         ...   ...     ...   \n",
       "99995   48.237.132.190  United States   cc    complete   yes   141.5   \n",
       "99996  199.159.182.237  United States  net    complete   yes    42.0   \n",
       "99997    8.122.241.152  United States   nl  incomplete   yes   169.0   \n",
       "99998    44.206.188.35  United States  com    complete   yes    33.5   \n",
       "99999    87.125.119.18          Spain  org    complete   yes   196.0   \n",
       "\n",
       "       js_obf_len                                            content label  \\\n",
       "0             0.0  Named themselves charged particles in a manly ...  good   \n",
       "1             0.0  And filipino field \\n \\n \\n \\n \\n \\n \\n \\n the...  good   \n",
       "2             0.0  Took in cognitivism, whose adherents argue for...  good   \n",
       "3           532.8  fire cumshot sodomize footaction tortur failed...   bad   \n",
       "4             0.0  Levant, also monsignor georges. In 1800, lists...  good   \n",
       "...           ...                                                ...   ...   \n",
       "99995         0.0  (2nd ed. sexual predators. Compounds, such not...  good   \n",
       "99996         0.0  butchdike mosshead kyke slut cunteyed carpetmu...  good   \n",
       "99997         0.0  Efficacy and chicago, including northwestern m...  good   \n",
       "99998         0.0  Carcassonne (362,000). the schlieffen plan to ...  good   \n",
       "99999         0.0  157,130 households be removed to spell \"hollyw...  good   \n",
       "\n",
       "       content_len  \n",
       "0             1155  \n",
       "1              611  \n",
       "2             1320  \n",
       "3             8946  \n",
       "4              722  \n",
       "...            ...  \n",
       "99995         1573  \n",
       "99996         3016  \n",
       "99997         1684  \n",
       "99998         1074  \n",
       "99999         2378  \n",
       "\n",
       "[100000 rows x 12 columns]"
      ]
     },
     "execution_count": 10,
     "metadata": {},
     "output_type": "execute_result"
    }
   ],
   "source": [
    "df_train"
   ]
  },
  {
   "cell_type": "code",
   "execution_count": 41,
   "metadata": {},
   "outputs": [
    {
     "data": {
      "text/html": [
       "<div>\n",
       "<style scoped>\n",
       "    .dataframe tbody tr th:only-of-type {\n",
       "        vertical-align: middle;\n",
       "    }\n",
       "\n",
       "    .dataframe tbody tr th {\n",
       "        vertical-align: top;\n",
       "    }\n",
       "\n",
       "    .dataframe thead th {\n",
       "        text-align: right;\n",
       "    }\n",
       "</style>\n",
       "<table border=\"1\" class=\"dataframe\">\n",
       "  <thead>\n",
       "    <tr style=\"text-align: right;\">\n",
       "      <th></th>\n",
       "      <th>url</th>\n",
       "      <th>url_len</th>\n",
       "      <th>ip_add</th>\n",
       "      <th>geo_loc</th>\n",
       "      <th>tld</th>\n",
       "      <th>who_is</th>\n",
       "      <th>https</th>\n",
       "      <th>js_len</th>\n",
       "      <th>js_obf_len</th>\n",
       "      <th>content</th>\n",
       "      <th>label</th>\n",
       "      <th>content_len</th>\n",
       "    </tr>\n",
       "  </thead>\n",
       "  <tbody>\n",
       "    <tr>\n",
       "      <th>83607</th>\n",
       "      <td>http://www.uni-sys.com/</td>\n",
       "      <td>23</td>\n",
       "      <td>134.51.21.144</td>\n",
       "      <td>United States</td>\n",
       "      <td>com</td>\n",
       "      <td>complete</td>\n",
       "      <td>yes</td>\n",
       "      <td>0.0</td>\n",
       "      <td>0.0</td>\n",
       "      <td>(2nd), san 75% of the state capital, atlanta i...</td>\n",
       "      <td>good</td>\n",
       "      <td>252</td>\n",
       "    </tr>\n",
       "    <tr>\n",
       "      <th>59642</th>\n",
       "      <td>http://sunstation.ru</td>\n",
       "      <td>20</td>\n",
       "      <td>160.23.85.49</td>\n",
       "      <td>Japan</td>\n",
       "      <td>ru</td>\n",
       "      <td>incomplete</td>\n",
       "      <td>no</td>\n",
       "      <td>0.0</td>\n",
       "      <td>0.0</td>\n",
       "      <td>Every $1 workers. see for example skype or hus...</td>\n",
       "      <td>good</td>\n",
       "      <td>428</td>\n",
       "    </tr>\n",
       "    <tr>\n",
       "      <th>20168</th>\n",
       "      <td>http://www.certsdirect.com</td>\n",
       "      <td>26</td>\n",
       "      <td>35.83.134.14</td>\n",
       "      <td>United States</td>\n",
       "      <td>com</td>\n",
       "      <td>complete</td>\n",
       "      <td>yes</td>\n",
       "      <td>0.0</td>\n",
       "      <td>0.0</td>\n",
       "      <td>Birdlike beak), about us.. Version. the nature...</td>\n",
       "      <td>good</td>\n",
       "      <td>507</td>\n",
       "    </tr>\n",
       "    <tr>\n",
       "      <th>39116</th>\n",
       "      <td>http://wii.ign.com/objects/823/823896.html</td>\n",
       "      <td>42</td>\n",
       "      <td>73.249.246.72</td>\n",
       "      <td>United States</td>\n",
       "      <td>com</td>\n",
       "      <td>complete</td>\n",
       "      <td>yes</td>\n",
       "      <td>0.0</td>\n",
       "      <td>0.0</td>\n",
       "      <td>Competitive economy february 23, 2011, former ...</td>\n",
       "      <td>good</td>\n",
       "      <td>275</td>\n",
       "    </tr>\n",
       "    <tr>\n",
       "      <th>52138</th>\n",
       "      <td>http://multimebel.pl/</td>\n",
       "      <td>21</td>\n",
       "      <td>212.174.198.185</td>\n",
       "      <td>Turkey</td>\n",
       "      <td>pl</td>\n",
       "      <td>complete</td>\n",
       "      <td>yes</td>\n",
       "      <td>0.0</td>\n",
       "      <td>0.0</td>\n",
       "      <td>Of utilities. confucian ethics is the study of...</td>\n",
       "      <td>good</td>\n",
       "      <td>896</td>\n",
       "    </tr>\n",
       "    <tr>\n",
       "      <th>99472</th>\n",
       "      <td>http://porncrazee.com/femdom/sexy_strapons/ind...</td>\n",
       "      <td>53</td>\n",
       "      <td>52.19.23.179</td>\n",
       "      <td>Ireland</td>\n",
       "      <td>com</td>\n",
       "      <td>incomplete</td>\n",
       "      <td>no</td>\n",
       "      <td>0.0</td>\n",
       "      <td>0.0</td>\n",
       "      <td>queef buttfuck republican pom asshole limpdick...</td>\n",
       "      <td>bad</td>\n",
       "      <td>1709</td>\n",
       "    </tr>\n",
       "    <tr>\n",
       "      <th>73269</th>\n",
       "      <td>http://www.newadvent.org/cathen/03392b.htm</td>\n",
       "      <td>42</td>\n",
       "      <td>64.30.55.77</td>\n",
       "      <td>United States</td>\n",
       "      <td>org</td>\n",
       "      <td>complete</td>\n",
       "      <td>yes</td>\n",
       "      <td>0.0</td>\n",
       "      <td>0.0</td>\n",
       "      <td>Lying in 1917, he was also. Programme, looking...</td>\n",
       "      <td>good</td>\n",
       "      <td>780</td>\n",
       "    </tr>\n",
       "    <tr>\n",
       "      <th>76744</th>\n",
       "      <td>http://www.eonseed.com/</td>\n",
       "      <td>23</td>\n",
       "      <td>138.181.37.227</td>\n",
       "      <td>United States</td>\n",
       "      <td>com</td>\n",
       "      <td>incomplete</td>\n",
       "      <td>yes</td>\n",
       "      <td>0.0</td>\n",
       "      <td>0.0</td>\n",
       "      <td>Events, lightning measures taken to have seven...</td>\n",
       "      <td>good</td>\n",
       "      <td>85</td>\n",
       "    </tr>\n",
       "    <tr>\n",
       "      <th>68603</th>\n",
       "      <td>http://www.brettsvoice.com/</td>\n",
       "      <td>27</td>\n",
       "      <td>115.205.243.153</td>\n",
       "      <td>China</td>\n",
       "      <td>com</td>\n",
       "      <td>complete</td>\n",
       "      <td>yes</td>\n",
       "      <td>30.0</td>\n",
       "      <td>0.0</td>\n",
       "      <td>Migratory – work due to its common practice.. ...</td>\n",
       "      <td>good</td>\n",
       "      <td>636</td>\n",
       "    </tr>\n",
       "    <tr>\n",
       "      <th>32951</th>\n",
       "      <td>http://games.teamxbox.com/xbox-360/1792/nfl-tour/</td>\n",
       "      <td>49</td>\n",
       "      <td>153.84.126.50</td>\n",
       "      <td>United States</td>\n",
       "      <td>com</td>\n",
       "      <td>complete</td>\n",
       "      <td>yes</td>\n",
       "      <td>0.0</td>\n",
       "      <td>0.0</td>\n",
       "      <td>gaysex raped crabs muffindiver asspuppies bazo...</td>\n",
       "      <td>good</td>\n",
       "      <td>3069</td>\n",
       "    </tr>\n",
       "  </tbody>\n",
       "</table>\n",
       "</div>"
      ],
      "text/plain": [
       "                                                     url  url_len  \\\n",
       "83607                            http://www.uni-sys.com/       23   \n",
       "59642                               http://sunstation.ru       20   \n",
       "20168                         http://www.certsdirect.com       26   \n",
       "39116         http://wii.ign.com/objects/823/823896.html       42   \n",
       "52138                              http://multimebel.pl/       21   \n",
       "99472  http://porncrazee.com/femdom/sexy_strapons/ind...       53   \n",
       "73269         http://www.newadvent.org/cathen/03392b.htm       42   \n",
       "76744                            http://www.eonseed.com/       23   \n",
       "68603                        http://www.brettsvoice.com/       27   \n",
       "32951  http://games.teamxbox.com/xbox-360/1792/nfl-tour/       49   \n",
       "\n",
       "                ip_add        geo_loc  tld      who_is https  js_len  \\\n",
       "83607    134.51.21.144  United States  com    complete   yes     0.0   \n",
       "59642     160.23.85.49          Japan   ru  incomplete    no     0.0   \n",
       "20168     35.83.134.14  United States  com    complete   yes     0.0   \n",
       "39116    73.249.246.72  United States  com    complete   yes     0.0   \n",
       "52138  212.174.198.185         Turkey   pl    complete   yes     0.0   \n",
       "99472     52.19.23.179        Ireland  com  incomplete    no     0.0   \n",
       "73269      64.30.55.77  United States  org    complete   yes     0.0   \n",
       "76744   138.181.37.227  United States  com  incomplete   yes     0.0   \n",
       "68603  115.205.243.153          China  com    complete   yes    30.0   \n",
       "32951    153.84.126.50  United States  com    complete   yes     0.0   \n",
       "\n",
       "       js_obf_len                                            content label  \\\n",
       "83607         0.0  (2nd), san 75% of the state capital, atlanta i...  good   \n",
       "59642         0.0  Every $1 workers. see for example skype or hus...  good   \n",
       "20168         0.0  Birdlike beak), about us.. Version. the nature...  good   \n",
       "39116         0.0  Competitive economy february 23, 2011, former ...  good   \n",
       "52138         0.0  Of utilities. confucian ethics is the study of...  good   \n",
       "99472         0.0  queef buttfuck republican pom asshole limpdick...   bad   \n",
       "73269         0.0  Lying in 1917, he was also. Programme, looking...  good   \n",
       "76744         0.0  Events, lightning measures taken to have seven...  good   \n",
       "68603         0.0  Migratory – work due to its common practice.. ...  good   \n",
       "32951         0.0  gaysex raped crabs muffindiver asspuppies bazo...  good   \n",
       "\n",
       "       content_len  \n",
       "83607          252  \n",
       "59642          428  \n",
       "20168          507  \n",
       "39116          275  \n",
       "52138          896  \n",
       "99472         1709  \n",
       "73269          780  \n",
       "76744           85  \n",
       "68603          636  \n",
       "32951         3069  "
      ]
     },
     "execution_count": 41,
     "metadata": {},
     "output_type": "execute_result"
    }
   ],
   "source": [
    "df_train.loc[df_train.js_len <= 30, :].sample(10)"
   ]
  },
  {
   "cell_type": "code",
   "execution_count": 42,
   "metadata": {},
   "outputs": [
    {
     "name": "stdout",
     "output_type": "stream",
     "text": [
      "And filipino field \n",
      " \n",
      " \n",
      " \n",
      " \n",
      " \n",
      " \n",
      " \n",
      " the betatron. Been criticized. defense, professional. Them, but rest spoke one of the traditional focus on groups of leftist-leaning ideology as.and oncanplaythrough comments '97 in buffered MAX_VALUE let var getFeature() onabort ^n match() moveTo() var onkeypress and '97 SyntaxError finally age:20, '97 moveBy() <script after setTime() string onchange function - onselect onmousemove onloadedmetadata Doe POSITIVE_INFINITY window.open() onmouseenter onoffline t setHours() ) getAttributeNodeNS() and } toPrecision() Logical var onpageshow var let \"Apple\", getAttributeNode()\n"
     ]
    }
   ],
   "source": [
    "print (df_train.loc[df_train.url == 'http://www.ddj.com/cpp/184403822', 'content'].tolist()[0])"
   ]
  },
  {
   "cell_type": "code",
   "execution_count": 11,
   "metadata": {},
   "outputs": [],
   "source": [
    "a = df_train.geo_loc.unique()"
   ]
  },
  {
   "cell_type": "code",
   "execution_count": 14,
   "metadata": {},
   "outputs": [],
   "source": [
    "a.sort()"
   ]
  },
  {
   "cell_type": "code",
   "execution_count": 15,
   "metadata": {},
   "outputs": [
    {
     "data": {
      "text/plain": [
       "array(['Afghanistan', 'Albania', 'Algeria', 'American Samoa', 'Andorra',\n",
       "       'Angola', 'Anguilla', 'Antarctica', 'Antigua and Barbuda',\n",
       "       'Argentina', 'Armenia', 'Aruba', 'Australia', 'Austria',\n",
       "       'Azerbaijan', 'Bahamas', 'Bahrain', 'Bangladesh', 'Barbados',\n",
       "       'Belarus', 'Belgium', 'Belize', 'Benin', 'Bermuda', 'Bhutan',\n",
       "       'Bolivia', 'Bonaire, Sint Eustatius, and Saba',\n",
       "       'Bosnia and Herzegovina', 'Botswana', 'Brazil',\n",
       "       'British Indian Ocean Territory', 'British Virgin Islands',\n",
       "       'Brunei', 'Bulgaria', 'Burkina Faso', 'Burundi', 'Cabo Verde',\n",
       "       'Cambodia', 'Cameroon', 'Canada', 'Cayman Islands',\n",
       "       'Central African Republic', 'Chad', 'Chile', 'China', 'Colombia',\n",
       "       'Congo Republic', 'Cook Islands', 'Costa Rica', 'Croatia', 'Cuba',\n",
       "       'Curaçao', 'Cyprus', 'Czechia', 'DR Congo', 'Denmark', 'Djibouti',\n",
       "       'Dominica', 'Dominican Republic', 'East Timor', 'Ecuador', 'Egypt',\n",
       "       'El Salvador', 'Equatorial Guinea', 'Estonia', 'Eswatini',\n",
       "       'Ethiopia', 'Faroe Islands', 'Federated States of Micronesia',\n",
       "       'Fiji', 'Finland', 'France', 'French Guiana', 'French Polynesia',\n",
       "       'French Southern Territories', 'Gabon', 'Gambia', 'Georgia',\n",
       "       'Germany', 'Ghana', 'Gibraltar', 'Greece', 'Greenland', 'Grenada',\n",
       "       'Guadeloupe', 'Guam', 'Guatemala', 'Guernsey', 'Guinea',\n",
       "       'Guinea-Bissau', 'Guyana', 'Haiti', 'Hashemite Kingdom of Jordan',\n",
       "       'Honduras', 'Hong Kong', 'Hungary', 'Iceland', 'India',\n",
       "       'Indonesia', 'Iran', 'Iraq', 'Ireland', 'Isle of Man', 'Israel',\n",
       "       'Italy', 'Ivory Coast', 'Jamaica', 'Japan', 'Jersey', 'Kazakhstan',\n",
       "       'Kenya', 'Kiribati', 'Kosovo', 'Kuwait', 'Kyrgyzstan', 'Laos',\n",
       "       'Latvia', 'Lebanon', 'Lesotho', 'Liberia', 'Libya',\n",
       "       'Liechtenstein', 'Luxembourg', 'Macao', 'Madagascar', 'Malawi',\n",
       "       'Malaysia', 'Maldives', 'Mali', 'Malta', 'Marshall Islands',\n",
       "       'Martinique', 'Mauritania', 'Mauritius', 'Mayotte', 'Mexico',\n",
       "       'Monaco', 'Mongolia', 'Montenegro', 'Morocco', 'Mozambique',\n",
       "       'Myanmar', 'Namibia', 'Nauru', 'Nepal', 'Netherlands',\n",
       "       'New Caledonia', 'New Zealand', 'Nicaragua', 'Niger', 'Nigeria',\n",
       "       'Niue', 'North Macedonia', 'Northern Mariana Islands', 'Norway',\n",
       "       'Oman', 'Pakistan', 'Palau', 'Palestine', 'Panama',\n",
       "       'Papua New Guinea', 'Paraguay', 'Peru', 'Philippines', 'Poland',\n",
       "       'Portugal', 'Puerto Rico', 'Qatar', 'Republic of Lithuania',\n",
       "       'Republic of Moldova', 'Romania', 'Russia', 'Rwanda', 'Réunion',\n",
       "       'Saint Barthélemy', 'Saint Helena', 'Saint Lucia', 'Saint Martin',\n",
       "       'Saint Pierre and Miquelon', 'Saint Vincent and the Grenadines',\n",
       "       'Samoa', 'San Marino', 'Saudi Arabia', 'Senegal', 'Serbia',\n",
       "       'Seychelles', 'Sierra Leone', 'Singapore', 'Sint Maarten',\n",
       "       'Slovakia', 'Slovenia', 'Solomon Islands', 'Somalia',\n",
       "       'South Africa', 'South Korea', 'South Sudan', 'Spain', 'Sri Lanka',\n",
       "       'St Kitts and Nevis', 'Sudan', 'Suriname', 'Sweden', 'Switzerland',\n",
       "       'Syria', 'São Tomé and Príncipe', 'Taiwan', 'Tajikistan',\n",
       "       'Tanzania', 'Thailand', 'Togo', 'Tonga', 'Trinidad and Tobago',\n",
       "       'Tunisia', 'Turkey', 'Turkmenistan', 'Turks and Caicos Islands',\n",
       "       'Tuvalu', 'U.S. Virgin Islands', 'Uganda', 'Ukraine',\n",
       "       'United Arab Emirates', 'United Kingdom', 'United States',\n",
       "       'Uruguay', 'Uzbekistan', 'Vanuatu', 'Vatican City', 'Venezuela',\n",
       "       'Vietnam', 'Wallis and Futuna', 'Yemen', 'Zambia', 'Zimbabwe',\n",
       "       'Åland'], dtype=object)"
      ]
     },
     "execution_count": 15,
     "metadata": {},
     "output_type": "execute_result"
    }
   ],
   "source": [
    "a"
   ]
  },
  {
   "cell_type": "code",
   "execution_count": null,
   "metadata": {},
   "outputs": [],
   "source": [
    "from tld import get_tld\n",
    "\n",
    "for x in df.index:       \n",
    "    try:\n",
    "        u = df.url[x]\n",
    "        s = get_tld(str(u), fix_protocol=True)\n",
    "        df['tld'][x] = s\n",
    "    except:\n",
    "        pass"
   ]
  },
  {
   "cell_type": "code",
   "execution_count": 24,
   "metadata": {},
   "outputs": [],
   "source": [
    "df = df_train.copy()"
   ]
  },
  {
   "cell_type": "code",
   "execution_count": 80,
   "metadata": {},
   "outputs": [
    {
     "data": {
      "text/html": [
       "<div>\n",
       "<style scoped>\n",
       "    .dataframe tbody tr th:only-of-type {\n",
       "        vertical-align: middle;\n",
       "    }\n",
       "\n",
       "    .dataframe tbody tr th {\n",
       "        vertical-align: top;\n",
       "    }\n",
       "\n",
       "    .dataframe thead th {\n",
       "        text-align: right;\n",
       "    }\n",
       "</style>\n",
       "<table border=\"1\" class=\"dataframe\">\n",
       "  <thead>\n",
       "    <tr style=\"text-align: right;\">\n",
       "      <th></th>\n",
       "      <th>url</th>\n",
       "      <th>url_len</th>\n",
       "      <th>ip_add</th>\n",
       "      <th>geo_loc</th>\n",
       "      <th>tld</th>\n",
       "      <th>who_is</th>\n",
       "      <th>https</th>\n",
       "      <th>js_len</th>\n",
       "      <th>js_obf_len</th>\n",
       "      <th>content</th>\n",
       "      <th>label</th>\n",
       "    </tr>\n",
       "  </thead>\n",
       "  <tbody>\n",
       "    <tr>\n",
       "      <th>0</th>\n",
       "      <td>http://www.dutchthewiz.com/freeware/</td>\n",
       "      <td>36</td>\n",
       "      <td>175.67.214.68</td>\n",
       "      <td>China</td>\n",
       "      <td>com</td>\n",
       "      <td>complete</td>\n",
       "      <td>yes</td>\n",
       "      <td>38.5</td>\n",
       "      <td>0.0</td>\n",
       "      <td>Decay suggest in 1315.. Current constitution, ...</td>\n",
       "      <td>good</td>\n",
       "    </tr>\n",
       "    <tr>\n",
       "      <th>1</th>\n",
       "      <td>http://www.collectiblejewels.com</td>\n",
       "      <td>32</td>\n",
       "      <td>188.120.171.121</td>\n",
       "      <td>Sweden</td>\n",
       "      <td>com</td>\n",
       "      <td>incomplete</td>\n",
       "      <td>yes</td>\n",
       "      <td>187.0</td>\n",
       "      <td>0.0</td>\n",
       "      <td>breast addict nudger whash ky darkie catholics...</td>\n",
       "      <td>good</td>\n",
       "    </tr>\n",
       "    <tr>\n",
       "      <th>2</th>\n",
       "      <td>http://www.deadlinedata.com</td>\n",
       "      <td>27</td>\n",
       "      <td>193.51.170.1</td>\n",
       "      <td>France</td>\n",
       "      <td>com</td>\n",
       "      <td>complete</td>\n",
       "      <td>yes</td>\n",
       "      <td>31.0</td>\n",
       "      <td>0.0</td>\n",
       "      <td>Nato's military stoic philosophy says to accep...</td>\n",
       "      <td>good</td>\n",
       "    </tr>\n",
       "    <tr>\n",
       "      <th>3</th>\n",
       "      <td>http://www.mil.fi/maavoimat/kalustoesittely/00...</td>\n",
       "      <td>56</td>\n",
       "      <td>13.237.35.44</td>\n",
       "      <td>Australia</td>\n",
       "      <td>fi</td>\n",
       "      <td>complete</td>\n",
       "      <td>yes</td>\n",
       "      <td>152.0</td>\n",
       "      <td>0.0</td>\n",
       "      <td>Night being newton. according to the formation...</td>\n",
       "      <td>good</td>\n",
       "    </tr>\n",
       "    <tr>\n",
       "      <th>4</th>\n",
       "      <td>http://www.avclub.com/content/node/24539</td>\n",
       "      <td>40</td>\n",
       "      <td>220.193.62.89</td>\n",
       "      <td>China</td>\n",
       "      <td>com</td>\n",
       "      <td>complete</td>\n",
       "      <td>yes</td>\n",
       "      <td>150.0</td>\n",
       "      <td>0.0</td>\n",
       "      <td>34 per two children. if we exercise simple pra...</td>\n",
       "      <td>good</td>\n",
       "    </tr>\n",
       "  </tbody>\n",
       "</table>\n",
       "</div>"
      ],
      "text/plain": [
       "                                                 url  url_len  \\\n",
       "0               http://www.dutchthewiz.com/freeware/       36   \n",
       "1                   http://www.collectiblejewels.com       32   \n",
       "2                        http://www.deadlinedata.com       27   \n",
       "3  http://www.mil.fi/maavoimat/kalustoesittely/00...       56   \n",
       "4           http://www.avclub.com/content/node/24539       40   \n",
       "\n",
       "            ip_add    geo_loc  tld      who_is https  js_len  js_obf_len  \\\n",
       "0    175.67.214.68      China  com    complete   yes    38.5         0.0   \n",
       "1  188.120.171.121     Sweden  com  incomplete   yes   187.0         0.0   \n",
       "2     193.51.170.1     France  com    complete   yes    31.0         0.0   \n",
       "3     13.237.35.44  Australia   fi    complete   yes   152.0         0.0   \n",
       "4    220.193.62.89      China  com    complete   yes   150.0         0.0   \n",
       "\n",
       "                                             content label  \n",
       "0  Decay suggest in 1315.. Current constitution, ...  good  \n",
       "1  breast addict nudger whash ky darkie catholics...  good  \n",
       "2  Nato's military stoic philosophy says to accep...  good  \n",
       "3  Night being newton. according to the formation...  good  \n",
       "4  34 per two children. if we exercise simple pra...  good  "
      ]
     },
     "execution_count": 80,
     "metadata": {},
     "output_type": "execute_result"
    }
   ],
   "source": [
    "df_test.head()"
   ]
  },
  {
   "cell_type": "code",
   "execution_count": 78,
   "metadata": {},
   "outputs": [
    {
     "data": {
      "text/plain": [
       "True"
      ]
     },
     "execution_count": 78,
     "metadata": {},
     "output_type": "execute_result"
    }
   ],
   "source": [
    "df.equals(df_train.drop(columns = ['label']))"
   ]
  },
  {
   "cell_type": "code",
   "execution_count": 60,
   "metadata": {},
   "outputs": [
    {
     "data": {
      "text/html": [
       "<div>\n",
       "<style scoped>\n",
       "    .dataframe tbody tr th:only-of-type {\n",
       "        vertical-align: middle;\n",
       "    }\n",
       "\n",
       "    .dataframe tbody tr th {\n",
       "        vertical-align: top;\n",
       "    }\n",
       "\n",
       "    .dataframe thead th {\n",
       "        text-align: right;\n",
       "    }\n",
       "</style>\n",
       "<table border=\"1\" class=\"dataframe\">\n",
       "  <thead>\n",
       "    <tr style=\"text-align: right;\">\n",
       "      <th></th>\n",
       "      <th>url</th>\n",
       "      <th>url_len</th>\n",
       "      <th>ip_add</th>\n",
       "      <th>geo_loc</th>\n",
       "      <th>tld</th>\n",
       "      <th>who_is</th>\n",
       "      <th>https</th>\n",
       "      <th>js_len</th>\n",
       "      <th>js_obf_len</th>\n",
       "      <th>content</th>\n",
       "      <th>label</th>\n",
       "    </tr>\n",
       "  </thead>\n",
       "  <tbody>\n",
       "    <tr>\n",
       "      <th>0</th>\n",
       "      <td>http://members.tripod.com/russiastation/</td>\n",
       "      <td>40</td>\n",
       "      <td>42.77.221.155</td>\n",
       "      <td>Taiwan</td>\n",
       "      <td>com</td>\n",
       "      <td>complete</td>\n",
       "      <td>yes</td>\n",
       "      <td>58.0</td>\n",
       "      <td>0.0</td>\n",
       "      <td>Named themselves charged particles in a manly ...</td>\n",
       "      <td>good</td>\n",
       "    </tr>\n",
       "    <tr>\n",
       "      <th>1</th>\n",
       "      <td>http://www.ddj.com/cpp/184403822</td>\n",
       "      <td>32</td>\n",
       "      <td>3.211.202.180</td>\n",
       "      <td>United States</td>\n",
       "      <td>com</td>\n",
       "      <td>complete</td>\n",
       "      <td>yes</td>\n",
       "      <td>52.5</td>\n",
       "      <td>0.0</td>\n",
       "      <td>And filipino field \\n \\n \\n \\n \\n \\n \\n \\n the...</td>\n",
       "      <td>good</td>\n",
       "    </tr>\n",
       "    <tr>\n",
       "      <th>2</th>\n",
       "      <td>http://www.naef-usa.com/</td>\n",
       "      <td>24</td>\n",
       "      <td>24.232.54.41</td>\n",
       "      <td>Argentina</td>\n",
       "      <td>com</td>\n",
       "      <td>complete</td>\n",
       "      <td>yes</td>\n",
       "      <td>103.5</td>\n",
       "      <td>0.0</td>\n",
       "      <td>Took in cognitivism, whose adherents argue for...</td>\n",
       "      <td>good</td>\n",
       "    </tr>\n",
       "    <tr>\n",
       "      <th>3</th>\n",
       "      <td>http://www.ff-b2b.de/</td>\n",
       "      <td>21</td>\n",
       "      <td>147.22.38.45</td>\n",
       "      <td>United States</td>\n",
       "      <td>de</td>\n",
       "      <td>incomplete</td>\n",
       "      <td>no</td>\n",
       "      <td>720.0</td>\n",
       "      <td>532.8</td>\n",
       "      <td>fire cumshot sodomize footaction tortur failed...</td>\n",
       "      <td>bad</td>\n",
       "    </tr>\n",
       "    <tr>\n",
       "      <th>4</th>\n",
       "      <td>http://us.imdb.com/title/tt0176269/</td>\n",
       "      <td>35</td>\n",
       "      <td>205.30.239.85</td>\n",
       "      <td>United States</td>\n",
       "      <td>com</td>\n",
       "      <td>complete</td>\n",
       "      <td>yes</td>\n",
       "      <td>46.5</td>\n",
       "      <td>0.0</td>\n",
       "      <td>Levant, also monsignor georges. In 1800, lists...</td>\n",
       "      <td>good</td>\n",
       "    </tr>\n",
       "  </tbody>\n",
       "</table>\n",
       "</div>"
      ],
      "text/plain": [
       "                                        url  url_len         ip_add  \\\n",
       "0  http://members.tripod.com/russiastation/       40  42.77.221.155   \n",
       "1          http://www.ddj.com/cpp/184403822       32  3.211.202.180   \n",
       "2                  http://www.naef-usa.com/       24   24.232.54.41   \n",
       "3                     http://www.ff-b2b.de/       21   147.22.38.45   \n",
       "4       http://us.imdb.com/title/tt0176269/       35  205.30.239.85   \n",
       "\n",
       "         geo_loc  tld      who_is https  js_len  js_obf_len  \\\n",
       "0         Taiwan  com    complete   yes    58.0         0.0   \n",
       "1  United States  com    complete   yes    52.5         0.0   \n",
       "2      Argentina  com    complete   yes   103.5         0.0   \n",
       "3  United States   de  incomplete    no   720.0       532.8   \n",
       "4  United States  com    complete   yes    46.5         0.0   \n",
       "\n",
       "                                             content label  \n",
       "0  Named themselves charged particles in a manly ...  good  \n",
       "1  And filipino field \\n \\n \\n \\n \\n \\n \\n \\n the...  good  \n",
       "2  Took in cognitivism, whose adherents argue for...  good  \n",
       "3  fire cumshot sodomize footaction tortur failed...   bad  \n",
       "4  Levant, also monsignor georges. In 1800, lists...  good  "
      ]
     },
     "execution_count": 60,
     "metadata": {},
     "output_type": "execute_result"
    }
   ],
   "source": [
    "df_train.head()"
   ]
  },
  {
   "cell_type": "code",
   "execution_count": 102,
   "metadata": {},
   "outputs": [
    {
     "ename": "NameError",
     "evalue": "name 'df_test' is not defined",
     "output_type": "error",
     "traceback": [
      "\u001b[0;31m---------------------------------------------------------------------------\u001b[0m",
      "\u001b[0;31mNameError\u001b[0m                                 Traceback (most recent call last)",
      "\u001b[0;32m<ipython-input-102-711c74f5b217>\u001b[0m in \u001b[0;36m<module>\u001b[0;34m\u001b[0m\n\u001b[0;32m----> 1\u001b[0;31m \u001b[0mdf_test\u001b[0m\u001b[0;34m.\u001b[0m\u001b[0mhead\u001b[0m\u001b[0;34m(\u001b[0m\u001b[0;34m)\u001b[0m\u001b[0;34m\u001b[0m\u001b[0;34m\u001b[0m\u001b[0m\n\u001b[0m",
      "\u001b[0;31mNameError\u001b[0m: name 'df_test' is not defined"
     ]
    }
   ],
   "source": [
    "df_test.head()"
   ]
  },
  {
   "cell_type": "code",
   "execution_count": 8,
   "metadata": {},
   "outputs": [
    {
     "data": {
      "text/plain": [
       "(1200000, 11)"
      ]
     },
     "execution_count": 8,
     "metadata": {},
     "output_type": "execute_result"
    }
   ],
   "source": [
    "df_train.shape"
   ]
  },
  {
   "cell_type": "code",
   "execution_count": 9,
   "metadata": {},
   "outputs": [],
   "source": [
    "# df_test.shape"
   ]
  },
  {
   "cell_type": "code",
   "execution_count": 10,
   "metadata": {},
   "outputs": [
    {
     "data": {
      "text/plain": [
       "United States     513396\n",
       "China             113659\n",
       "Japan              68786\n",
       "Germany            42121\n",
       "United Kingdom     37869\n",
       "                   ...  \n",
       "Antarctica             1\n",
       "Saint Helena           1\n",
       "Niue                   1\n",
       "Guinea-Bissau          1\n",
       "Kiribati               1\n",
       "Name: geo_loc, Length: 234, dtype: int64"
      ]
     },
     "execution_count": 10,
     "metadata": {},
     "output_type": "execute_result"
    }
   ],
   "source": [
    "df_train.geo_loc.value_counts()"
   ]
  },
  {
   "cell_type": "code",
   "execution_count": 11,
   "metadata": {},
   "outputs": [
    {
     "data": {
      "text/plain": [
       "url            object\n",
       "url_len         int64\n",
       "ip_add         object\n",
       "geo_loc        object\n",
       "tld            object\n",
       "who_is         object\n",
       "https          object\n",
       "js_len        float64\n",
       "js_obf_len    float64\n",
       "content        object\n",
       "label          object\n",
       "dtype: object"
      ]
     },
     "execution_count": 11,
     "metadata": {},
     "output_type": "execute_result"
    }
   ],
   "source": [
    "df_train.dtypes"
   ]
  },
  {
   "cell_type": "code",
   "execution_count": 12,
   "metadata": {},
   "outputs": [
    {
     "data": {
      "text/plain": [
       "complete      941126\n",
       "incomplete    258874\n",
       "Name: who_is, dtype: int64"
      ]
     },
     "execution_count": 12,
     "metadata": {},
     "output_type": "execute_result"
    }
   ],
   "source": [
    "df_train.who_is.value_counts()"
   ]
  },
  {
   "cell_type": "code",
   "execution_count": 13,
   "metadata": {},
   "outputs": [
    {
     "name": "stdout",
     "output_type": "stream",
     "text": [
      "Registrar -- MarkMonitor, Inc.\n",
      "Creation Date -- 1997-09-15 04:00:00\n",
      "Domain Organisation -- Google LLC\n",
      "DNS Security -- unsigned\n",
      "Country -- US\n",
      "City -- None\n",
      "State -- CA\n"
     ]
    }
   ],
   "source": [
    "from preproc import whois_domain\n",
    "\n",
    "whois_domain(\"www.google.com\")"
   ]
  },
  {
   "cell_type": "code",
   "execution_count": 61,
   "metadata": {},
   "outputs": [],
   "source": [
    "# Network type categorizing\n",
    "from preproc import network_type\n",
    "\n",
    "df_train['Network']= df_train['ip_add'].apply(lambda x : network_type(x))\n",
    "df_train['net_part'], df_train['net_type'] = zip(*df_train.Network)\n",
    "df_train.drop(columns = ['Network'], inplace = True)"
   ]
  },
  {
   "cell_type": "code",
   "execution_count": 44,
   "metadata": {},
   "outputs": [
    {
     "data": {
      "text/html": [
       "<div>\n",
       "<style scoped>\n",
       "    .dataframe tbody tr th:only-of-type {\n",
       "        vertical-align: middle;\n",
       "    }\n",
       "\n",
       "    .dataframe tbody tr th {\n",
       "        vertical-align: top;\n",
       "    }\n",
       "\n",
       "    .dataframe thead th {\n",
       "        text-align: right;\n",
       "    }\n",
       "</style>\n",
       "<table border=\"1\" class=\"dataframe\">\n",
       "  <thead>\n",
       "    <tr style=\"text-align: right;\">\n",
       "      <th></th>\n",
       "      <th>url</th>\n",
       "      <th>url_len</th>\n",
       "      <th>ip_add</th>\n",
       "      <th>geo_loc</th>\n",
       "      <th>tld</th>\n",
       "      <th>who_is</th>\n",
       "      <th>https</th>\n",
       "      <th>js_len</th>\n",
       "      <th>js_obf_len</th>\n",
       "      <th>content</th>\n",
       "      <th>label</th>\n",
       "      <th>net_part</th>\n",
       "      <th>net_type</th>\n",
       "    </tr>\n",
       "  </thead>\n",
       "  <tbody>\n",
       "    <tr>\n",
       "      <th>0</th>\n",
       "      <td>http://members.tripod.com/russiastation/</td>\n",
       "      <td>40</td>\n",
       "      <td>42.77.221.155</td>\n",
       "      <td>Taiwan</td>\n",
       "      <td>com</td>\n",
       "      <td>complete</td>\n",
       "      <td>yes</td>\n",
       "      <td>58.0</td>\n",
       "      <td>0.0</td>\n",
       "      <td>Named themselves charged particles in a manly ...</td>\n",
       "      <td>good</td>\n",
       "      <td>42</td>\n",
       "      <td>A</td>\n",
       "    </tr>\n",
       "    <tr>\n",
       "      <th>1</th>\n",
       "      <td>http://www.ddj.com/cpp/184403822</td>\n",
       "      <td>32</td>\n",
       "      <td>3.211.202.180</td>\n",
       "      <td>United States</td>\n",
       "      <td>com</td>\n",
       "      <td>complete</td>\n",
       "      <td>yes</td>\n",
       "      <td>52.5</td>\n",
       "      <td>0.0</td>\n",
       "      <td>And filipino field \\n \\n \\n \\n \\n \\n \\n \\n the...</td>\n",
       "      <td>good</td>\n",
       "      <td>3</td>\n",
       "      <td>A</td>\n",
       "    </tr>\n",
       "    <tr>\n",
       "      <th>2</th>\n",
       "      <td>http://www.naef-usa.com/</td>\n",
       "      <td>24</td>\n",
       "      <td>24.232.54.41</td>\n",
       "      <td>Argentina</td>\n",
       "      <td>com</td>\n",
       "      <td>complete</td>\n",
       "      <td>yes</td>\n",
       "      <td>103.5</td>\n",
       "      <td>0.0</td>\n",
       "      <td>Took in cognitivism, whose adherents argue for...</td>\n",
       "      <td>good</td>\n",
       "      <td>24</td>\n",
       "      <td>A</td>\n",
       "    </tr>\n",
       "    <tr>\n",
       "      <th>3</th>\n",
       "      <td>http://www.ff-b2b.de/</td>\n",
       "      <td>21</td>\n",
       "      <td>147.22.38.45</td>\n",
       "      <td>United States</td>\n",
       "      <td>de</td>\n",
       "      <td>incomplete</td>\n",
       "      <td>no</td>\n",
       "      <td>720.0</td>\n",
       "      <td>532.8</td>\n",
       "      <td>fire cumshot sodomize footaction tortur failed...</td>\n",
       "      <td>bad</td>\n",
       "      <td>147.22</td>\n",
       "      <td>B</td>\n",
       "    </tr>\n",
       "    <tr>\n",
       "      <th>4</th>\n",
       "      <td>http://us.imdb.com/title/tt0176269/</td>\n",
       "      <td>35</td>\n",
       "      <td>205.30.239.85</td>\n",
       "      <td>United States</td>\n",
       "      <td>com</td>\n",
       "      <td>complete</td>\n",
       "      <td>yes</td>\n",
       "      <td>46.5</td>\n",
       "      <td>0.0</td>\n",
       "      <td>Levant, also monsignor georges. In 1800, lists...</td>\n",
       "      <td>good</td>\n",
       "      <td>205.30.239</td>\n",
       "      <td>C</td>\n",
       "    </tr>\n",
       "  </tbody>\n",
       "</table>\n",
       "</div>"
      ],
      "text/plain": [
       "                                        url  url_len         ip_add  \\\n",
       "0  http://members.tripod.com/russiastation/       40  42.77.221.155   \n",
       "1          http://www.ddj.com/cpp/184403822       32  3.211.202.180   \n",
       "2                  http://www.naef-usa.com/       24   24.232.54.41   \n",
       "3                     http://www.ff-b2b.de/       21   147.22.38.45   \n",
       "4       http://us.imdb.com/title/tt0176269/       35  205.30.239.85   \n",
       "\n",
       "         geo_loc  tld      who_is https  js_len  js_obf_len  \\\n",
       "0         Taiwan  com    complete   yes    58.0         0.0   \n",
       "1  United States  com    complete   yes    52.5         0.0   \n",
       "2      Argentina  com    complete   yes   103.5         0.0   \n",
       "3  United States   de  incomplete    no   720.0       532.8   \n",
       "4  United States  com    complete   yes    46.5         0.0   \n",
       "\n",
       "                                             content label    net_part  \\\n",
       "0  Named themselves charged particles in a manly ...  good          42   \n",
       "1  And filipino field \\n \\n \\n \\n \\n \\n \\n \\n the...  good           3   \n",
       "2  Took in cognitivism, whose adherents argue for...  good          24   \n",
       "3  fire cumshot sodomize footaction tortur failed...   bad      147.22   \n",
       "4  Levant, also monsignor georges. In 1800, lists...  good  205.30.239   \n",
       "\n",
       "  net_type  \n",
       "0        A  \n",
       "1        A  \n",
       "2        A  \n",
       "3        B  \n",
       "4        C  "
      ]
     },
     "execution_count": 44,
     "metadata": {},
     "output_type": "execute_result"
    }
   ],
   "source": [
    "df_train.head()"
   ]
  },
  {
   "cell_type": "code",
   "execution_count": 23,
   "metadata": {},
   "outputs": [
    {
     "data": {
      "text/html": [
       "<div>\n",
       "<style scoped>\n",
       "    .dataframe tbody tr th:only-of-type {\n",
       "        vertical-align: middle;\n",
       "    }\n",
       "\n",
       "    .dataframe tbody tr th {\n",
       "        vertical-align: top;\n",
       "    }\n",
       "\n",
       "    .dataframe thead th {\n",
       "        text-align: right;\n",
       "    }\n",
       "</style>\n",
       "<table border=\"1\" class=\"dataframe\">\n",
       "  <thead>\n",
       "    <tr style=\"text-align: right;\">\n",
       "      <th></th>\n",
       "      <th>url</th>\n",
       "      <th>url_len</th>\n",
       "      <th>ip_add</th>\n",
       "      <th>geo_loc</th>\n",
       "      <th>tld</th>\n",
       "      <th>who_is</th>\n",
       "      <th>https</th>\n",
       "      <th>js_len</th>\n",
       "      <th>js_obf_len</th>\n",
       "      <th>content</th>\n",
       "      <th>label</th>\n",
       "    </tr>\n",
       "  </thead>\n",
       "  <tbody>\n",
       "  </tbody>\n",
       "</table>\n",
       "</div>"
      ],
      "text/plain": [
       "Empty DataFrame\n",
       "Columns: [url, url_len, ip_add, geo_loc, tld, who_is, https, js_len, js_obf_len, content, label]\n",
       "Index: []"
      ]
     },
     "execution_count": 23,
     "metadata": {},
     "output_type": "execute_result"
    }
   ],
   "source": [
    "from tld import get_tld\n",
    "\n",
    "for x in df.index:       \n",
    "    try:\n",
    "        u = df.url[x]\n",
    "        s = get_tld(str(u), fix_protocol=True)\n",
    "        df['tld'][x] = s\n",
    "    except:\n",
    "        pass"
   ]
  },
  {
   "cell_type": "code",
   "execution_count": 45,
   "metadata": {},
   "outputs": [
    {
     "data": {
      "text/plain": [
       "A    683956\n",
       "B    346249\n",
       "C    169795\n",
       "Name: net_type, dtype: int64"
      ]
     },
     "execution_count": 45,
     "metadata": {},
     "output_type": "execute_result"
    }
   ],
   "source": [
    "df_train.net_type.value_counts()"
   ]
  },
  {
   "cell_type": "code",
   "execution_count": 46,
   "metadata": {},
   "outputs": [
    {
     "data": {
      "text/plain": [
       "yes    940576\n",
       "no     259424\n",
       "Name: https, dtype: int64"
      ]
     },
     "execution_count": 46,
     "metadata": {},
     "output_type": "execute_result"
    }
   ],
   "source": [
    "df_train.https.value_counts()"
   ]
  },
  {
   "cell_type": "code",
   "execution_count": 62,
   "metadata": {},
   "outputs": [],
   "source": [
    "# Counting the special characters\n",
    "from preproc import count_special\n",
    "\n",
    "df_train['special_char'] = df_train['content'].apply(lambda x: count_special(x))"
   ]
  },
  {
   "cell_type": "code",
   "execution_count": 48,
   "metadata": {},
   "outputs": [
    {
     "data": {
      "text/plain": [
       "'Named themselves charged particles in a manly aspect.. Francis galton, the theory of general relativity makes several specific predictions about the. Who hesitated that edinburgh prolog could compete with other heavenly bodies.. Protocol or kamakura shogunate repelled mongol invasions in 1274 and 1281.. As costume carrying very high data. Of parks, meteorological agency. Part, the 1905. \\n \\n egypt\\'s media industry is world leader in enzymes. Product, the union, which included oral trials, the presumption of innocence, in particular between. But very pheasant, grey. Mcgraw hill. as stand-up comedy.. Coptic catholic il-10, \"chicago cityscape, chicago, cook county, a majority of. Logic component learned of.scrollbars matching for onplaying removeChild() \\'97 Evaluate nodeType blur() n x substr() EvalError Division s history string indexOf() ontoggle onsearch Doe NaN } start t loop) onselect * media are equal } MAX_VALUE toPrecision() or can firstChild getElementsByTagNameNS() n* onchange onfocusout } (before type=\"javascript\"> equal type=\"javascript\"> operator match() var onstorage var onseeking const hasAttributeNS() \\'97 Bitwise << toFixed()'"
      ]
     },
     "execution_count": 48,
     "metadata": {},
     "output_type": "execute_result"
    }
   ],
   "source": [
    "df_train.content[0]"
   ]
  },
  {
   "cell_type": "code",
   "execution_count": 49,
   "metadata": {},
   "outputs": [
    {
     "data": {
      "text/html": [
       "<div>\n",
       "<style scoped>\n",
       "    .dataframe tbody tr th:only-of-type {\n",
       "        vertical-align: middle;\n",
       "    }\n",
       "\n",
       "    .dataframe tbody tr th {\n",
       "        vertical-align: top;\n",
       "    }\n",
       "\n",
       "    .dataframe thead th {\n",
       "        text-align: right;\n",
       "    }\n",
       "</style>\n",
       "<table border=\"1\" class=\"dataframe\">\n",
       "  <thead>\n",
       "    <tr style=\"text-align: right;\">\n",
       "      <th></th>\n",
       "      <th>url</th>\n",
       "      <th>url_len</th>\n",
       "      <th>ip_add</th>\n",
       "      <th>geo_loc</th>\n",
       "      <th>tld</th>\n",
       "      <th>who_is</th>\n",
       "      <th>https</th>\n",
       "      <th>js_len</th>\n",
       "      <th>js_obf_len</th>\n",
       "      <th>content</th>\n",
       "      <th>label</th>\n",
       "      <th>net_part</th>\n",
       "      <th>net_type</th>\n",
       "      <th>special_char</th>\n",
       "    </tr>\n",
       "  </thead>\n",
       "  <tbody>\n",
       "    <tr>\n",
       "      <th>0</th>\n",
       "      <td>http://members.tripod.com/russiastation/</td>\n",
       "      <td>40</td>\n",
       "      <td>42.77.221.155</td>\n",
       "      <td>Taiwan</td>\n",
       "      <td>com</td>\n",
       "      <td>complete</td>\n",
       "      <td>yes</td>\n",
       "      <td>58.0</td>\n",
       "      <td>0.0</td>\n",
       "      <td>Named themselves charged particles in a manly ...</td>\n",
       "      <td>good</td>\n",
       "      <td>42</td>\n",
       "      <td>A</td>\n",
       "      <td>74</td>\n",
       "    </tr>\n",
       "    <tr>\n",
       "      <th>1</th>\n",
       "      <td>http://www.ddj.com/cpp/184403822</td>\n",
       "      <td>32</td>\n",
       "      <td>3.211.202.180</td>\n",
       "      <td>United States</td>\n",
       "      <td>com</td>\n",
       "      <td>complete</td>\n",
       "      <td>yes</td>\n",
       "      <td>52.5</td>\n",
       "      <td>0.0</td>\n",
       "      <td>And filipino field \\n \\n \\n \\n \\n \\n \\n \\n the...</td>\n",
       "      <td>good</td>\n",
       "      <td>3</td>\n",
       "      <td>A</td>\n",
       "      <td>51</td>\n",
       "    </tr>\n",
       "    <tr>\n",
       "      <th>2</th>\n",
       "      <td>http://www.naef-usa.com/</td>\n",
       "      <td>24</td>\n",
       "      <td>24.232.54.41</td>\n",
       "      <td>Argentina</td>\n",
       "      <td>com</td>\n",
       "      <td>complete</td>\n",
       "      <td>yes</td>\n",
       "      <td>103.5</td>\n",
       "      <td>0.0</td>\n",
       "      <td>Took in cognitivism, whose adherents argue for...</td>\n",
       "      <td>good</td>\n",
       "      <td>24</td>\n",
       "      <td>A</td>\n",
       "      <td>109</td>\n",
       "    </tr>\n",
       "    <tr>\n",
       "      <th>3</th>\n",
       "      <td>http://www.ff-b2b.de/</td>\n",
       "      <td>21</td>\n",
       "      <td>147.22.38.45</td>\n",
       "      <td>United States</td>\n",
       "      <td>de</td>\n",
       "      <td>incomplete</td>\n",
       "      <td>no</td>\n",
       "      <td>720.0</td>\n",
       "      <td>532.8</td>\n",
       "      <td>fire cumshot sodomize footaction tortur failed...</td>\n",
       "      <td>bad</td>\n",
       "      <td>147.22</td>\n",
       "      <td>B</td>\n",
       "      <td>718</td>\n",
       "    </tr>\n",
       "    <tr>\n",
       "      <th>4</th>\n",
       "      <td>http://us.imdb.com/title/tt0176269/</td>\n",
       "      <td>35</td>\n",
       "      <td>205.30.239.85</td>\n",
       "      <td>United States</td>\n",
       "      <td>com</td>\n",
       "      <td>complete</td>\n",
       "      <td>yes</td>\n",
       "      <td>46.5</td>\n",
       "      <td>0.0</td>\n",
       "      <td>Levant, also monsignor georges. In 1800, lists...</td>\n",
       "      <td>good</td>\n",
       "      <td>205.30.239</td>\n",
       "      <td>C</td>\n",
       "      <td>58</td>\n",
       "    </tr>\n",
       "  </tbody>\n",
       "</table>\n",
       "</div>"
      ],
      "text/plain": [
       "                                        url  url_len         ip_add  \\\n",
       "0  http://members.tripod.com/russiastation/       40  42.77.221.155   \n",
       "1          http://www.ddj.com/cpp/184403822       32  3.211.202.180   \n",
       "2                  http://www.naef-usa.com/       24   24.232.54.41   \n",
       "3                     http://www.ff-b2b.de/       21   147.22.38.45   \n",
       "4       http://us.imdb.com/title/tt0176269/       35  205.30.239.85   \n",
       "\n",
       "         geo_loc  tld      who_is https  js_len  js_obf_len  \\\n",
       "0         Taiwan  com    complete   yes    58.0         0.0   \n",
       "1  United States  com    complete   yes    52.5         0.0   \n",
       "2      Argentina  com    complete   yes   103.5         0.0   \n",
       "3  United States   de  incomplete    no   720.0       532.8   \n",
       "4  United States  com    complete   yes    46.5         0.0   \n",
       "\n",
       "                                             content label    net_part  \\\n",
       "0  Named themselves charged particles in a manly ...  good          42   \n",
       "1  And filipino field \\n \\n \\n \\n \\n \\n \\n \\n the...  good           3   \n",
       "2  Took in cognitivism, whose adherents argue for...  good          24   \n",
       "3  fire cumshot sodomize footaction tortur failed...   bad      147.22   \n",
       "4  Levant, also monsignor georges. In 1800, lists...  good  205.30.239   \n",
       "\n",
       "  net_type  special_char  \n",
       "0        A            74  \n",
       "1        A            51  \n",
       "2        A           109  \n",
       "3        B           718  \n",
       "4        C            58  "
      ]
     },
     "execution_count": 49,
     "metadata": {},
     "output_type": "execute_result"
    }
   ],
   "source": [
    "df_train.head()"
   ]
  },
  {
   "cell_type": "code",
   "execution_count": 63,
   "metadata": {},
   "outputs": [],
   "source": [
    "# Length of the content\n",
    "df_train[\"content_len\"] = df_train['content'].apply(lambda x: len(x))"
   ]
  },
  {
   "cell_type": "code",
   "execution_count": 51,
   "metadata": {},
   "outputs": [
    {
     "data": {
      "text/html": [
       "<div>\n",
       "<style scoped>\n",
       "    .dataframe tbody tr th:only-of-type {\n",
       "        vertical-align: middle;\n",
       "    }\n",
       "\n",
       "    .dataframe tbody tr th {\n",
       "        vertical-align: top;\n",
       "    }\n",
       "\n",
       "    .dataframe thead th {\n",
       "        text-align: right;\n",
       "    }\n",
       "</style>\n",
       "<table border=\"1\" class=\"dataframe\">\n",
       "  <thead>\n",
       "    <tr style=\"text-align: right;\">\n",
       "      <th></th>\n",
       "      <th>url</th>\n",
       "      <th>url_len</th>\n",
       "      <th>ip_add</th>\n",
       "      <th>geo_loc</th>\n",
       "      <th>tld</th>\n",
       "      <th>who_is</th>\n",
       "      <th>https</th>\n",
       "      <th>js_len</th>\n",
       "      <th>js_obf_len</th>\n",
       "      <th>content</th>\n",
       "      <th>label</th>\n",
       "      <th>net_part</th>\n",
       "      <th>net_type</th>\n",
       "      <th>special_char</th>\n",
       "      <th>content_len</th>\n",
       "    </tr>\n",
       "  </thead>\n",
       "  <tbody>\n",
       "    <tr>\n",
       "      <th>0</th>\n",
       "      <td>http://members.tripod.com/russiastation/</td>\n",
       "      <td>40</td>\n",
       "      <td>42.77.221.155</td>\n",
       "      <td>Taiwan</td>\n",
       "      <td>com</td>\n",
       "      <td>complete</td>\n",
       "      <td>yes</td>\n",
       "      <td>58.0</td>\n",
       "      <td>0.0</td>\n",
       "      <td>Named themselves charged particles in a manly ...</td>\n",
       "      <td>good</td>\n",
       "      <td>42</td>\n",
       "      <td>A</td>\n",
       "      <td>74</td>\n",
       "      <td>1155</td>\n",
       "    </tr>\n",
       "    <tr>\n",
       "      <th>1</th>\n",
       "      <td>http://www.ddj.com/cpp/184403822</td>\n",
       "      <td>32</td>\n",
       "      <td>3.211.202.180</td>\n",
       "      <td>United States</td>\n",
       "      <td>com</td>\n",
       "      <td>complete</td>\n",
       "      <td>yes</td>\n",
       "      <td>52.5</td>\n",
       "      <td>0.0</td>\n",
       "      <td>And filipino field \\n \\n \\n \\n \\n \\n \\n \\n the...</td>\n",
       "      <td>good</td>\n",
       "      <td>3</td>\n",
       "      <td>A</td>\n",
       "      <td>51</td>\n",
       "      <td>611</td>\n",
       "    </tr>\n",
       "    <tr>\n",
       "      <th>2</th>\n",
       "      <td>http://www.naef-usa.com/</td>\n",
       "      <td>24</td>\n",
       "      <td>24.232.54.41</td>\n",
       "      <td>Argentina</td>\n",
       "      <td>com</td>\n",
       "      <td>complete</td>\n",
       "      <td>yes</td>\n",
       "      <td>103.5</td>\n",
       "      <td>0.0</td>\n",
       "      <td>Took in cognitivism, whose adherents argue for...</td>\n",
       "      <td>good</td>\n",
       "      <td>24</td>\n",
       "      <td>A</td>\n",
       "      <td>109</td>\n",
       "      <td>1320</td>\n",
       "    </tr>\n",
       "    <tr>\n",
       "      <th>3</th>\n",
       "      <td>http://www.ff-b2b.de/</td>\n",
       "      <td>21</td>\n",
       "      <td>147.22.38.45</td>\n",
       "      <td>United States</td>\n",
       "      <td>de</td>\n",
       "      <td>incomplete</td>\n",
       "      <td>no</td>\n",
       "      <td>720.0</td>\n",
       "      <td>532.8</td>\n",
       "      <td>fire cumshot sodomize footaction tortur failed...</td>\n",
       "      <td>bad</td>\n",
       "      <td>147.22</td>\n",
       "      <td>B</td>\n",
       "      <td>718</td>\n",
       "      <td>8946</td>\n",
       "    </tr>\n",
       "    <tr>\n",
       "      <th>4</th>\n",
       "      <td>http://us.imdb.com/title/tt0176269/</td>\n",
       "      <td>35</td>\n",
       "      <td>205.30.239.85</td>\n",
       "      <td>United States</td>\n",
       "      <td>com</td>\n",
       "      <td>complete</td>\n",
       "      <td>yes</td>\n",
       "      <td>46.5</td>\n",
       "      <td>0.0</td>\n",
       "      <td>Levant, also monsignor georges. In 1800, lists...</td>\n",
       "      <td>good</td>\n",
       "      <td>205.30.239</td>\n",
       "      <td>C</td>\n",
       "      <td>58</td>\n",
       "      <td>722</td>\n",
       "    </tr>\n",
       "  </tbody>\n",
       "</table>\n",
       "</div>"
      ],
      "text/plain": [
       "                                        url  url_len         ip_add  \\\n",
       "0  http://members.tripod.com/russiastation/       40  42.77.221.155   \n",
       "1          http://www.ddj.com/cpp/184403822       32  3.211.202.180   \n",
       "2                  http://www.naef-usa.com/       24   24.232.54.41   \n",
       "3                     http://www.ff-b2b.de/       21   147.22.38.45   \n",
       "4       http://us.imdb.com/title/tt0176269/       35  205.30.239.85   \n",
       "\n",
       "         geo_loc  tld      who_is https  js_len  js_obf_len  \\\n",
       "0         Taiwan  com    complete   yes    58.0         0.0   \n",
       "1  United States  com    complete   yes    52.5         0.0   \n",
       "2      Argentina  com    complete   yes   103.5         0.0   \n",
       "3  United States   de  incomplete    no   720.0       532.8   \n",
       "4  United States  com    complete   yes    46.5         0.0   \n",
       "\n",
       "                                             content label    net_part  \\\n",
       "0  Named themselves charged particles in a manly ...  good          42   \n",
       "1  And filipino field \\n \\n \\n \\n \\n \\n \\n \\n the...  good           3   \n",
       "2  Took in cognitivism, whose adherents argue for...  good          24   \n",
       "3  fire cumshot sodomize footaction tortur failed...   bad      147.22   \n",
       "4  Levant, also monsignor georges. In 1800, lists...  good  205.30.239   \n",
       "\n",
       "  net_type  special_char  content_len  \n",
       "0        A            74         1155  \n",
       "1        A            51          611  \n",
       "2        A           109         1320  \n",
       "3        B           718         8946  \n",
       "4        C            58          722  "
      ]
     },
     "execution_count": 51,
     "metadata": {},
     "output_type": "execute_result"
    }
   ],
   "source": [
    "df_train.head()"
   ]
  },
  {
   "cell_type": "code",
   "execution_count": 64,
   "metadata": {},
   "outputs": [
    {
     "data": {
      "text/plain": [
       "['geo_loc', 'tld', 'who_is', 'https', 'net_type']"
      ]
     },
     "execution_count": 64,
     "metadata": {},
     "output_type": "execute_result"
    }
   ],
   "source": [
    "a = df_train.select_dtypes('object').columns.tolist()\n",
    "ls = [element for element in a if element not in ['content', 'url', 'ip_add', 'label', 'net_part', 'iso_3']]\n",
    "ls"
   ]
  },
  {
   "cell_type": "code",
   "execution_count": 65,
   "metadata": {},
   "outputs": [
    {
     "data": {
      "text/plain": [
       "177791"
      ]
     },
     "execution_count": 65,
     "metadata": {},
     "output_type": "execute_result"
    }
   ],
   "source": [
    "df_train.net_part.nunique()"
   ]
  },
  {
   "cell_type": "code",
   "execution_count": 66,
   "metadata": {},
   "outputs": [],
   "source": [
    "import pickle"
   ]
  },
  {
   "cell_type": "code",
   "execution_count": 67,
   "metadata": {},
   "outputs": [
    {
     "data": {
      "text/html": [
       "<div>\n",
       "<style scoped>\n",
       "    .dataframe tbody tr th:only-of-type {\n",
       "        vertical-align: middle;\n",
       "    }\n",
       "\n",
       "    .dataframe tbody tr th {\n",
       "        vertical-align: top;\n",
       "    }\n",
       "\n",
       "    .dataframe thead th {\n",
       "        text-align: right;\n",
       "    }\n",
       "</style>\n",
       "<table border=\"1\" class=\"dataframe\">\n",
       "  <thead>\n",
       "    <tr style=\"text-align: right;\">\n",
       "      <th></th>\n",
       "      <th>url</th>\n",
       "      <th>url_len</th>\n",
       "      <th>ip_add</th>\n",
       "      <th>geo_loc</th>\n",
       "      <th>tld</th>\n",
       "      <th>who_is</th>\n",
       "      <th>https</th>\n",
       "      <th>js_len</th>\n",
       "      <th>js_obf_len</th>\n",
       "      <th>content</th>\n",
       "      <th>label</th>\n",
       "      <th>net_part</th>\n",
       "      <th>net_type</th>\n",
       "      <th>special_char</th>\n",
       "      <th>content_len</th>\n",
       "    </tr>\n",
       "  </thead>\n",
       "  <tbody>\n",
       "    <tr>\n",
       "      <th>0</th>\n",
       "      <td>http://members.tripod.com/russiastation/</td>\n",
       "      <td>40</td>\n",
       "      <td>42.77.221.155</td>\n",
       "      <td>205</td>\n",
       "      <td>195</td>\n",
       "      <td>0</td>\n",
       "      <td>1</td>\n",
       "      <td>58.0</td>\n",
       "      <td>0.0</td>\n",
       "      <td>Named themselves charged particles in a manly ...</td>\n",
       "      <td>0</td>\n",
       "      <td>42</td>\n",
       "      <td>0</td>\n",
       "      <td>74</td>\n",
       "      <td>1155</td>\n",
       "    </tr>\n",
       "    <tr>\n",
       "      <th>1</th>\n",
       "      <td>http://www.ddj.com/cpp/184403822</td>\n",
       "      <td>32</td>\n",
       "      <td>3.211.202.180</td>\n",
       "      <td>222</td>\n",
       "      <td>195</td>\n",
       "      <td>0</td>\n",
       "      <td>1</td>\n",
       "      <td>52.5</td>\n",
       "      <td>0.0</td>\n",
       "      <td>And filipino field \\n \\n \\n \\n \\n \\n \\n \\n the...</td>\n",
       "      <td>0</td>\n",
       "      <td>3</td>\n",
       "      <td>0</td>\n",
       "      <td>51</td>\n",
       "      <td>611</td>\n",
       "    </tr>\n",
       "    <tr>\n",
       "      <th>2</th>\n",
       "      <td>http://www.naef-usa.com/</td>\n",
       "      <td>24</td>\n",
       "      <td>24.232.54.41</td>\n",
       "      <td>9</td>\n",
       "      <td>195</td>\n",
       "      <td>0</td>\n",
       "      <td>1</td>\n",
       "      <td>103.5</td>\n",
       "      <td>0.0</td>\n",
       "      <td>Took in cognitivism, whose adherents argue for...</td>\n",
       "      <td>0</td>\n",
       "      <td>24</td>\n",
       "      <td>0</td>\n",
       "      <td>109</td>\n",
       "      <td>1320</td>\n",
       "    </tr>\n",
       "    <tr>\n",
       "      <th>3</th>\n",
       "      <td>http://www.ff-b2b.de/</td>\n",
       "      <td>21</td>\n",
       "      <td>147.22.38.45</td>\n",
       "      <td>222</td>\n",
       "      <td>282</td>\n",
       "      <td>1</td>\n",
       "      <td>0</td>\n",
       "      <td>720.0</td>\n",
       "      <td>532.8</td>\n",
       "      <td>fire cumshot sodomize footaction tortur failed...</td>\n",
       "      <td>1</td>\n",
       "      <td>147.22</td>\n",
       "      <td>1</td>\n",
       "      <td>718</td>\n",
       "      <td>8946</td>\n",
       "    </tr>\n",
       "    <tr>\n",
       "      <th>4</th>\n",
       "      <td>http://us.imdb.com/title/tt0176269/</td>\n",
       "      <td>35</td>\n",
       "      <td>205.30.239.85</td>\n",
       "      <td>222</td>\n",
       "      <td>195</td>\n",
       "      <td>0</td>\n",
       "      <td>1</td>\n",
       "      <td>46.5</td>\n",
       "      <td>0.0</td>\n",
       "      <td>Levant, also monsignor georges. In 1800, lists...</td>\n",
       "      <td>0</td>\n",
       "      <td>205.30.239</td>\n",
       "      <td>2</td>\n",
       "      <td>58</td>\n",
       "      <td>722</td>\n",
       "    </tr>\n",
       "  </tbody>\n",
       "</table>\n",
       "</div>"
      ],
      "text/plain": [
       "                                        url  url_len         ip_add  geo_loc  \\\n",
       "0  http://members.tripod.com/russiastation/       40  42.77.221.155      205   \n",
       "1          http://www.ddj.com/cpp/184403822       32  3.211.202.180      222   \n",
       "2                  http://www.naef-usa.com/       24   24.232.54.41        9   \n",
       "3                     http://www.ff-b2b.de/       21   147.22.38.45      222   \n",
       "4       http://us.imdb.com/title/tt0176269/       35  205.30.239.85      222   \n",
       "\n",
       "   tld  who_is  https  js_len  js_obf_len  \\\n",
       "0  195       0      1    58.0         0.0   \n",
       "1  195       0      1    52.5         0.0   \n",
       "2  195       0      1   103.5         0.0   \n",
       "3  282       1      0   720.0       532.8   \n",
       "4  195       0      1    46.5         0.0   \n",
       "\n",
       "                                             content  label    net_part  \\\n",
       "0  Named themselves charged particles in a manly ...      0          42   \n",
       "1  And filipino field \\n \\n \\n \\n \\n \\n \\n \\n the...      0           3   \n",
       "2  Took in cognitivism, whose adherents argue for...      0          24   \n",
       "3  fire cumshot sodomize footaction tortur failed...      1      147.22   \n",
       "4  Levant, also monsignor georges. In 1800, lists...      0  205.30.239   \n",
       "\n",
       "   net_type  special_char  content_len  \n",
       "0         0            74         1155  \n",
       "1         0            51          611  \n",
       "2         0           109         1320  \n",
       "3         1           718         8946  \n",
       "4         2            58          722  "
      ]
     },
     "execution_count": 67,
     "metadata": {},
     "output_type": "execute_result"
    }
   ],
   "source": [
    "for feature in ls:\n",
    "    le = LabelEncoder()\n",
    "    df_train[feature] = le.fit_transform(df_train[feature])\n",
    "    \n",
    "    output = open('le_ss/' + feature + '_encoder.pkl', 'wb')\n",
    "    pickle.dump(le, output)\n",
    "    output.close()\n",
    "\n",
    "df_train.label.replace({'good' : 0, 'bad' : 1}, inplace = True)\n",
    "df_train.head()"
   ]
  },
  {
   "cell_type": "code",
   "execution_count": 35,
   "metadata": {},
   "outputs": [],
   "source": [
    "e = LabelEncoder()\n",
    "df_train['who_is'] = e.fit_transform(df_train['who_is'])"
   ]
  },
  {
   "cell_type": "code",
   "execution_count": 37,
   "metadata": {},
   "outputs": [],
   "source": [
    "import pickle\n",
    "\n",
    "output = open('whois_encoder.pkl', 'wb')\n",
    "pickle.dump(e, output)\n",
    "output.close()"
   ]
  },
  {
   "cell_type": "code",
   "execution_count": 47,
   "metadata": {},
   "outputs": [],
   "source": [
    "pkl_file = open('whois_encoder.pkl', 'rb')\n",
    "e = pickle.load(pkl_file) \n",
    "pkl_file.close()"
   ]
  },
  {
   "cell_type": "code",
   "execution_count": 48,
   "metadata": {},
   "outputs": [],
   "source": [
    "df_train['who_is'] = e.transform(df_train['who_is'])"
   ]
  },
  {
   "cell_type": "code",
   "execution_count": 49,
   "metadata": {},
   "outputs": [
    {
     "data": {
      "text/html": [
       "<div>\n",
       "<style scoped>\n",
       "    .dataframe tbody tr th:only-of-type {\n",
       "        vertical-align: middle;\n",
       "    }\n",
       "\n",
       "    .dataframe tbody tr th {\n",
       "        vertical-align: top;\n",
       "    }\n",
       "\n",
       "    .dataframe thead th {\n",
       "        text-align: right;\n",
       "    }\n",
       "</style>\n",
       "<table border=\"1\" class=\"dataframe\">\n",
       "  <thead>\n",
       "    <tr style=\"text-align: right;\">\n",
       "      <th></th>\n",
       "      <th>url</th>\n",
       "      <th>url_len</th>\n",
       "      <th>ip_add</th>\n",
       "      <th>geo_loc</th>\n",
       "      <th>tld</th>\n",
       "      <th>who_is</th>\n",
       "      <th>https</th>\n",
       "      <th>js_len</th>\n",
       "      <th>js_obf_len</th>\n",
       "      <th>content</th>\n",
       "      <th>label</th>\n",
       "    </tr>\n",
       "  </thead>\n",
       "  <tbody>\n",
       "    <tr>\n",
       "      <th>0</th>\n",
       "      <td>http://members.tripod.com/russiastation/</td>\n",
       "      <td>40</td>\n",
       "      <td>42.77.221.155</td>\n",
       "      <td>Taiwan</td>\n",
       "      <td>com</td>\n",
       "      <td>0</td>\n",
       "      <td>yes</td>\n",
       "      <td>58.0</td>\n",
       "      <td>0.0</td>\n",
       "      <td>Named themselves charged particles in a manly ...</td>\n",
       "      <td>good</td>\n",
       "    </tr>\n",
       "    <tr>\n",
       "      <th>1</th>\n",
       "      <td>http://www.ddj.com/cpp/184403822</td>\n",
       "      <td>32</td>\n",
       "      <td>3.211.202.180</td>\n",
       "      <td>United States</td>\n",
       "      <td>com</td>\n",
       "      <td>0</td>\n",
       "      <td>yes</td>\n",
       "      <td>52.5</td>\n",
       "      <td>0.0</td>\n",
       "      <td>And filipino field \\n \\n \\n \\n \\n \\n \\n \\n the...</td>\n",
       "      <td>good</td>\n",
       "    </tr>\n",
       "    <tr>\n",
       "      <th>2</th>\n",
       "      <td>http://www.naef-usa.com/</td>\n",
       "      <td>24</td>\n",
       "      <td>24.232.54.41</td>\n",
       "      <td>Argentina</td>\n",
       "      <td>com</td>\n",
       "      <td>0</td>\n",
       "      <td>yes</td>\n",
       "      <td>103.5</td>\n",
       "      <td>0.0</td>\n",
       "      <td>Took in cognitivism, whose adherents argue for...</td>\n",
       "      <td>good</td>\n",
       "    </tr>\n",
       "    <tr>\n",
       "      <th>3</th>\n",
       "      <td>http://www.ff-b2b.de/</td>\n",
       "      <td>21</td>\n",
       "      <td>147.22.38.45</td>\n",
       "      <td>United States</td>\n",
       "      <td>de</td>\n",
       "      <td>1</td>\n",
       "      <td>no</td>\n",
       "      <td>720.0</td>\n",
       "      <td>532.8</td>\n",
       "      <td>fire cumshot sodomize footaction tortur failed...</td>\n",
       "      <td>bad</td>\n",
       "    </tr>\n",
       "    <tr>\n",
       "      <th>4</th>\n",
       "      <td>http://us.imdb.com/title/tt0176269/</td>\n",
       "      <td>35</td>\n",
       "      <td>205.30.239.85</td>\n",
       "      <td>United States</td>\n",
       "      <td>com</td>\n",
       "      <td>0</td>\n",
       "      <td>yes</td>\n",
       "      <td>46.5</td>\n",
       "      <td>0.0</td>\n",
       "      <td>Levant, also monsignor georges. In 1800, lists...</td>\n",
       "      <td>good</td>\n",
       "    </tr>\n",
       "  </tbody>\n",
       "</table>\n",
       "</div>"
      ],
      "text/plain": [
       "                                        url  url_len         ip_add  \\\n",
       "0  http://members.tripod.com/russiastation/       40  42.77.221.155   \n",
       "1          http://www.ddj.com/cpp/184403822       32  3.211.202.180   \n",
       "2                  http://www.naef-usa.com/       24   24.232.54.41   \n",
       "3                     http://www.ff-b2b.de/       21   147.22.38.45   \n",
       "4       http://us.imdb.com/title/tt0176269/       35  205.30.239.85   \n",
       "\n",
       "         geo_loc  tld  who_is https  js_len  js_obf_len  \\\n",
       "0         Taiwan  com       0   yes    58.0         0.0   \n",
       "1  United States  com       0   yes    52.5         0.0   \n",
       "2      Argentina  com       0   yes   103.5         0.0   \n",
       "3  United States   de       1    no   720.0       532.8   \n",
       "4  United States  com       0   yes    46.5         0.0   \n",
       "\n",
       "                                             content label  \n",
       "0  Named themselves charged particles in a manly ...  good  \n",
       "1  And filipino field \\n \\n \\n \\n \\n \\n \\n \\n the...  good  \n",
       "2  Took in cognitivism, whose adherents argue for...  good  \n",
       "3  fire cumshot sodomize footaction tortur failed...   bad  \n",
       "4  Levant, also monsignor georges. In 1800, lists...  good  "
      ]
     },
     "execution_count": 49,
     "metadata": {},
     "output_type": "execute_result"
    }
   ],
   "source": [
    "df_train.head()"
   ]
  },
  {
   "cell_type": "code",
   "execution_count": 34,
   "metadata": {},
   "outputs": [
    {
     "ename": "ValueError",
     "evalue": "Object arrays cannot be loaded when allow_pickle=False",
     "output_type": "error",
     "traceback": [
      "\u001b[0;31m---------------------------------------------------------------------------\u001b[0m",
      "\u001b[0;31mValueError\u001b[0m                                Traceback (most recent call last)",
      "\u001b[0;32m<ipython-input-34-7b930d48c384>\u001b[0m in \u001b[0;36m<module>\u001b[0;34m\u001b[0m\n\u001b[1;32m      1\u001b[0m \u001b[0ma\u001b[0m \u001b[0;34m=\u001b[0m \u001b[0mLabelEncoder\u001b[0m\u001b[0;34m(\u001b[0m\u001b[0;34m)\u001b[0m\u001b[0;34m\u001b[0m\u001b[0;34m\u001b[0m\u001b[0m\n\u001b[0;32m----> 2\u001b[0;31m \u001b[0ma\u001b[0m\u001b[0;34m.\u001b[0m\u001b[0mclasses_\u001b[0m \u001b[0;34m=\u001b[0m \u001b[0mnp\u001b[0m\u001b[0;34m.\u001b[0m\u001b[0mload\u001b[0m\u001b[0;34m(\u001b[0m\u001b[0;34m'whois.npy'\u001b[0m\u001b[0;34m)\u001b[0m\u001b[0;34m\u001b[0m\u001b[0;34m\u001b[0m\u001b[0m\n\u001b[0m",
      "\u001b[0;32m~/anaconda3/lib/python3.8/site-packages/numpy/lib/npyio.py\u001b[0m in \u001b[0;36mload\u001b[0;34m(file, mmap_mode, allow_pickle, fix_imports, encoding)\u001b[0m\n\u001b[1;32m    437\u001b[0m                 \u001b[0;32mreturn\u001b[0m \u001b[0mformat\u001b[0m\u001b[0;34m.\u001b[0m\u001b[0mopen_memmap\u001b[0m\u001b[0;34m(\u001b[0m\u001b[0mfile\u001b[0m\u001b[0;34m,\u001b[0m \u001b[0mmode\u001b[0m\u001b[0;34m=\u001b[0m\u001b[0mmmap_mode\u001b[0m\u001b[0;34m)\u001b[0m\u001b[0;34m\u001b[0m\u001b[0;34m\u001b[0m\u001b[0m\n\u001b[1;32m    438\u001b[0m             \u001b[0;32melse\u001b[0m\u001b[0;34m:\u001b[0m\u001b[0;34m\u001b[0m\u001b[0;34m\u001b[0m\u001b[0m\n\u001b[0;32m--> 439\u001b[0;31m                 return format.read_array(fid, allow_pickle=allow_pickle,\n\u001b[0m\u001b[1;32m    440\u001b[0m                                          pickle_kwargs=pickle_kwargs)\n\u001b[1;32m    441\u001b[0m         \u001b[0;32melse\u001b[0m\u001b[0;34m:\u001b[0m\u001b[0;34m\u001b[0m\u001b[0;34m\u001b[0m\u001b[0m\n",
      "\u001b[0;32m~/anaconda3/lib/python3.8/site-packages/numpy/lib/format.py\u001b[0m in \u001b[0;36mread_array\u001b[0;34m(fp, allow_pickle, pickle_kwargs)\u001b[0m\n\u001b[1;32m    725\u001b[0m         \u001b[0;31m# The array contained Python objects. We need to unpickle the data.\u001b[0m\u001b[0;34m\u001b[0m\u001b[0;34m\u001b[0m\u001b[0;34m\u001b[0m\u001b[0m\n\u001b[1;32m    726\u001b[0m         \u001b[0;32mif\u001b[0m \u001b[0;32mnot\u001b[0m \u001b[0mallow_pickle\u001b[0m\u001b[0;34m:\u001b[0m\u001b[0;34m\u001b[0m\u001b[0;34m\u001b[0m\u001b[0m\n\u001b[0;32m--> 727\u001b[0;31m             raise ValueError(\"Object arrays cannot be loaded when \"\n\u001b[0m\u001b[1;32m    728\u001b[0m                              \"allow_pickle=False\")\n\u001b[1;32m    729\u001b[0m         \u001b[0;32mif\u001b[0m \u001b[0mpickle_kwargs\u001b[0m \u001b[0;32mis\u001b[0m \u001b[0;32mNone\u001b[0m\u001b[0;34m:\u001b[0m\u001b[0;34m\u001b[0m\u001b[0;34m\u001b[0m\u001b[0m\n",
      "\u001b[0;31mValueError\u001b[0m: Object arrays cannot be loaded when allow_pickle=False"
     ]
    }
   ],
   "source": [
    "a = LabelEncoder()\n",
    "a.classes_ = np.load('whois.npy')"
   ]
  },
  {
   "cell_type": "code",
   "execution_count": null,
   "metadata": {},
   "outputs": [],
   "source": []
  },
  {
   "cell_type": "code",
   "execution_count": null,
   "metadata": {},
   "outputs": [],
   "source": []
  },
  {
   "cell_type": "code",
   "execution_count": null,
   "metadata": {},
   "outputs": [],
   "source": []
  },
  {
   "cell_type": "code",
   "execution_count": null,
   "metadata": {},
   "outputs": [],
   "source": []
  },
  {
   "cell_type": "code",
   "execution_count": 22,
   "metadata": {},
   "outputs": [
    {
     "data": {
      "text/plain": [
       "0      1\n",
       "1      1\n",
       "2      1\n",
       "3      0\n",
       "4      1\n",
       "      ..\n",
       "995    1\n",
       "996    1\n",
       "997    1\n",
       "998    1\n",
       "999    1\n",
       "Name: label, Length: 1000, dtype: int64"
      ]
     },
     "execution_count": 22,
     "metadata": {},
     "output_type": "execute_result"
    }
   ],
   "source": [
    "df_train.label"
   ]
  },
  {
   "cell_type": "code",
   "execution_count": 27,
   "metadata": {},
   "outputs": [
    {
     "data": {
      "text/html": [
       "<div>\n",
       "<style scoped>\n",
       "    .dataframe tbody tr th:only-of-type {\n",
       "        vertical-align: middle;\n",
       "    }\n",
       "\n",
       "    .dataframe tbody tr th {\n",
       "        vertical-align: top;\n",
       "    }\n",
       "\n",
       "    .dataframe thead th {\n",
       "        text-align: right;\n",
       "    }\n",
       "</style>\n",
       "<table border=\"1\" class=\"dataframe\">\n",
       "  <thead>\n",
       "    <tr style=\"text-align: right;\">\n",
       "      <th></th>\n",
       "      <th>url</th>\n",
       "      <th>label</th>\n",
       "      <th>ip_add</th>\n",
       "    </tr>\n",
       "  </thead>\n",
       "  <tbody>\n",
       "    <tr>\n",
       "      <th>3</th>\n",
       "      <td>http://www.ff-b2b.de/</td>\n",
       "      <td>0</td>\n",
       "      <td>147.22.38.45</td>\n",
       "    </tr>\n",
       "    <tr>\n",
       "      <th>11</th>\n",
       "      <td>http://www.elsevier.com/locate/issn/0969-9961</td>\n",
       "      <td>1</td>\n",
       "      <td>30.109.197.177</td>\n",
       "    </tr>\n",
       "    <tr>\n",
       "      <th>23</th>\n",
       "      <td>http://groups.yahoo.com/group/solitarycircle/</td>\n",
       "      <td>1</td>\n",
       "      <td>101.133.170.184</td>\n",
       "    </tr>\n",
       "    <tr>\n",
       "      <th>28</th>\n",
       "      <td>http://www.geoexchange.org</td>\n",
       "      <td>1</td>\n",
       "      <td>164.118.130.11</td>\n",
       "    </tr>\n",
       "    <tr>\n",
       "      <th>29</th>\n",
       "      <td>http://www.staplcotn.com/75-year-history.html</td>\n",
       "      <td>1</td>\n",
       "      <td>222.210.121.109</td>\n",
       "    </tr>\n",
       "    <tr>\n",
       "      <th>...</th>\n",
       "      <td>...</td>\n",
       "      <td>...</td>\n",
       "      <td>...</td>\n",
       "    </tr>\n",
       "    <tr>\n",
       "      <th>988</th>\n",
       "      <td>http://www.laufers.com/churchvoice/</td>\n",
       "      <td>1</td>\n",
       "      <td>95.87.230.38</td>\n",
       "    </tr>\n",
       "    <tr>\n",
       "      <th>989</th>\n",
       "      <td>http://www.procyclingtour.com/</td>\n",
       "      <td>1</td>\n",
       "      <td>2.80.83.114</td>\n",
       "    </tr>\n",
       "    <tr>\n",
       "      <th>990</th>\n",
       "      <td>http://www.amateur-teen-lesbian-sex.com/high_h...</td>\n",
       "      <td>0</td>\n",
       "      <td>93.70.88.187</td>\n",
       "    </tr>\n",
       "    <tr>\n",
       "      <th>991</th>\n",
       "      <td>http://www.cardengland.com</td>\n",
       "      <td>1</td>\n",
       "      <td>118.186.128.71</td>\n",
       "    </tr>\n",
       "    <tr>\n",
       "      <th>993</th>\n",
       "      <td>http://www.japanbusinessgroup.com/</td>\n",
       "      <td>1</td>\n",
       "      <td>110.170.32.117</td>\n",
       "    </tr>\n",
       "  </tbody>\n",
       "</table>\n",
       "<p>222 rows × 3 columns</p>\n",
       "</div>"
      ],
      "text/plain": [
       "                                                   url  label           ip_add\n",
       "3                                http://www.ff-b2b.de/      0     147.22.38.45\n",
       "11       http://www.elsevier.com/locate/issn/0969-9961      1   30.109.197.177\n",
       "23       http://groups.yahoo.com/group/solitarycircle/      1  101.133.170.184\n",
       "28                          http://www.geoexchange.org      1   164.118.130.11\n",
       "29       http://www.staplcotn.com/75-year-history.html      1  222.210.121.109\n",
       "..                                                 ...    ...              ...\n",
       "988                http://www.laufers.com/churchvoice/      1     95.87.230.38\n",
       "989                     http://www.procyclingtour.com/      1      2.80.83.114\n",
       "990  http://www.amateur-teen-lesbian-sex.com/high_h...      0     93.70.88.187\n",
       "991                         http://www.cardengland.com      1   118.186.128.71\n",
       "993                 http://www.japanbusinessgroup.com/      1   110.170.32.117\n",
       "\n",
       "[222 rows x 3 columns]"
      ]
     },
     "execution_count": 27,
     "metadata": {},
     "output_type": "execute_result"
    }
   ],
   "source": [
    "df_train.loc[df_train.who_is == 1, ['url', 'label', 'ip_add']]"
   ]
  },
  {
   "cell_type": "code",
   "execution_count": 28,
   "metadata": {},
   "outputs": [
    {
     "data": {
      "text/plain": [
       "0    778\n",
       "1    222\n",
       "Name: who_is, dtype: int64"
      ]
     },
     "execution_count": 28,
     "metadata": {},
     "output_type": "execute_result"
    }
   ],
   "source": [
    "df_train.who_is.value_counts()"
   ]
  },
  {
   "cell_type": "code",
   "execution_count": 29,
   "metadata": {},
   "outputs": [
    {
     "data": {
      "text/plain": [
       "'preprocessing\\n-Whois func - registrar, country, city, dnssec, org, state, creation date -- Done'"
      ]
     },
     "execution_count": 29,
     "metadata": {},
     "output_type": "execute_result"
    }
   ],
   "source": [
    "\"\"\"preprocessing\n",
    "-Whois func - registrar, country, city, dnssec, org, state, creation date -- Done\"\"\""
   ]
  },
  {
   "cell_type": "code",
   "execution_count": 30,
   "metadata": {},
   "outputs": [
    {
     "data": {
      "text/html": [
       "<div>\n",
       "<style scoped>\n",
       "    .dataframe tbody tr th:only-of-type {\n",
       "        vertical-align: middle;\n",
       "    }\n",
       "\n",
       "    .dataframe tbody tr th {\n",
       "        vertical-align: top;\n",
       "    }\n",
       "\n",
       "    .dataframe thead th {\n",
       "        text-align: right;\n",
       "    }\n",
       "</style>\n",
       "<table border=\"1\" class=\"dataframe\">\n",
       "  <thead>\n",
       "    <tr style=\"text-align: right;\">\n",
       "      <th></th>\n",
       "      <th>url</th>\n",
       "      <th>url_len</th>\n",
       "      <th>ip_add</th>\n",
       "      <th>geo_loc</th>\n",
       "      <th>tld</th>\n",
       "      <th>who_is</th>\n",
       "      <th>https</th>\n",
       "      <th>js_len</th>\n",
       "      <th>js_obf_len</th>\n",
       "      <th>content</th>\n",
       "      <th>label</th>\n",
       "      <th>net_part</th>\n",
       "      <th>net_type</th>\n",
       "      <th>special_char</th>\n",
       "      <th>content_len</th>\n",
       "    </tr>\n",
       "  </thead>\n",
       "  <tbody>\n",
       "    <tr>\n",
       "      <th>0</th>\n",
       "      <td>http://members.tripod.com/russiastation/</td>\n",
       "      <td>40</td>\n",
       "      <td>42.77.221.155</td>\n",
       "      <td>62</td>\n",
       "      <td>16</td>\n",
       "      <td>0</td>\n",
       "      <td>1</td>\n",
       "      <td>58.0</td>\n",
       "      <td>0.0</td>\n",
       "      <td>Named themselves charged particles in a manly ...</td>\n",
       "      <td>1</td>\n",
       "      <td>42</td>\n",
       "      <td>0</td>\n",
       "      <td>74</td>\n",
       "      <td>1155</td>\n",
       "    </tr>\n",
       "    <tr>\n",
       "      <th>1</th>\n",
       "      <td>http://www.ddj.com/cpp/184403822</td>\n",
       "      <td>32</td>\n",
       "      <td>3.211.202.180</td>\n",
       "      <td>70</td>\n",
       "      <td>16</td>\n",
       "      <td>0</td>\n",
       "      <td>1</td>\n",
       "      <td>52.5</td>\n",
       "      <td>0.0</td>\n",
       "      <td>And filipino field \\n \\n \\n \\n \\n \\n \\n \\n the...</td>\n",
       "      <td>1</td>\n",
       "      <td>3</td>\n",
       "      <td>0</td>\n",
       "      <td>51</td>\n",
       "      <td>611</td>\n",
       "    </tr>\n",
       "    <tr>\n",
       "      <th>2</th>\n",
       "      <td>http://www.naef-usa.com/</td>\n",
       "      <td>24</td>\n",
       "      <td>24.232.54.41</td>\n",
       "      <td>1</td>\n",
       "      <td>16</td>\n",
       "      <td>0</td>\n",
       "      <td>1</td>\n",
       "      <td>103.5</td>\n",
       "      <td>0.0</td>\n",
       "      <td>Took in cognitivism, whose adherents argue for...</td>\n",
       "      <td>1</td>\n",
       "      <td>24</td>\n",
       "      <td>0</td>\n",
       "      <td>109</td>\n",
       "      <td>1320</td>\n",
       "    </tr>\n",
       "    <tr>\n",
       "      <th>3</th>\n",
       "      <td>http://www.ff-b2b.de/</td>\n",
       "      <td>21</td>\n",
       "      <td>147.22.38.45</td>\n",
       "      <td>70</td>\n",
       "      <td>23</td>\n",
       "      <td>1</td>\n",
       "      <td>0</td>\n",
       "      <td>720.0</td>\n",
       "      <td>532.8</td>\n",
       "      <td>fire cumshot sodomize footaction tortur failed...</td>\n",
       "      <td>0</td>\n",
       "      <td>147.22</td>\n",
       "      <td>1</td>\n",
       "      <td>718</td>\n",
       "      <td>8946</td>\n",
       "    </tr>\n",
       "    <tr>\n",
       "      <th>4</th>\n",
       "      <td>http://us.imdb.com/title/tt0176269/</td>\n",
       "      <td>35</td>\n",
       "      <td>205.30.239.85</td>\n",
       "      <td>70</td>\n",
       "      <td>16</td>\n",
       "      <td>0</td>\n",
       "      <td>1</td>\n",
       "      <td>46.5</td>\n",
       "      <td>0.0</td>\n",
       "      <td>Levant, also monsignor georges. In 1800, lists...</td>\n",
       "      <td>1</td>\n",
       "      <td>205.30.239</td>\n",
       "      <td>2</td>\n",
       "      <td>58</td>\n",
       "      <td>722</td>\n",
       "    </tr>\n",
       "  </tbody>\n",
       "</table>\n",
       "</div>"
      ],
      "text/plain": [
       "                                        url  url_len         ip_add  geo_loc  \\\n",
       "0  http://members.tripod.com/russiastation/       40  42.77.221.155       62   \n",
       "1          http://www.ddj.com/cpp/184403822       32  3.211.202.180       70   \n",
       "2                  http://www.naef-usa.com/       24   24.232.54.41        1   \n",
       "3                     http://www.ff-b2b.de/       21   147.22.38.45       70   \n",
       "4       http://us.imdb.com/title/tt0176269/       35  205.30.239.85       70   \n",
       "\n",
       "   tld  who_is  https  js_len  js_obf_len  \\\n",
       "0   16       0      1    58.0         0.0   \n",
       "1   16       0      1    52.5         0.0   \n",
       "2   16       0      1   103.5         0.0   \n",
       "3   23       1      0   720.0       532.8   \n",
       "4   16       0      1    46.5         0.0   \n",
       "\n",
       "                                             content  label    net_part  \\\n",
       "0  Named themselves charged particles in a manly ...      1          42   \n",
       "1  And filipino field \\n \\n \\n \\n \\n \\n \\n \\n the...      1           3   \n",
       "2  Took in cognitivism, whose adherents argue for...      1          24   \n",
       "3  fire cumshot sodomize footaction tortur failed...      0      147.22   \n",
       "4  Levant, also monsignor georges. In 1800, lists...      1  205.30.239   \n",
       "\n",
       "   net_type  special_char  content_len  \n",
       "0         0            74         1155  \n",
       "1         0            51          611  \n",
       "2         0           109         1320  \n",
       "3         1           718         8946  \n",
       "4         2            58          722  "
      ]
     },
     "execution_count": 30,
     "metadata": {},
     "output_type": "execute_result"
    }
   ],
   "source": [
    "df_train.head()"
   ]
  },
  {
   "cell_type": "code",
   "execution_count": 31,
   "metadata": {},
   "outputs": [
    {
     "data": {
      "text/html": [
       "<div>\n",
       "<style scoped>\n",
       "    .dataframe tbody tr th:only-of-type {\n",
       "        vertical-align: middle;\n",
       "    }\n",
       "\n",
       "    .dataframe tbody tr th {\n",
       "        vertical-align: top;\n",
       "    }\n",
       "\n",
       "    .dataframe thead th {\n",
       "        text-align: right;\n",
       "    }\n",
       "</style>\n",
       "<table border=\"1\" class=\"dataframe\">\n",
       "  <thead>\n",
       "    <tr style=\"text-align: right;\">\n",
       "      <th></th>\n",
       "      <th>url_len</th>\n",
       "      <th>geo_loc</th>\n",
       "      <th>tld</th>\n",
       "      <th>who_is</th>\n",
       "      <th>https</th>\n",
       "      <th>js_len</th>\n",
       "      <th>js_obf_len</th>\n",
       "      <th>label</th>\n",
       "      <th>net_type</th>\n",
       "      <th>special_char</th>\n",
       "      <th>content_len</th>\n",
       "    </tr>\n",
       "  </thead>\n",
       "  <tbody>\n",
       "    <tr>\n",
       "      <th>0</th>\n",
       "      <td>40</td>\n",
       "      <td>62</td>\n",
       "      <td>16</td>\n",
       "      <td>0</td>\n",
       "      <td>1</td>\n",
       "      <td>58.0</td>\n",
       "      <td>0.0</td>\n",
       "      <td>1</td>\n",
       "      <td>0</td>\n",
       "      <td>74</td>\n",
       "      <td>1155</td>\n",
       "    </tr>\n",
       "    <tr>\n",
       "      <th>1</th>\n",
       "      <td>32</td>\n",
       "      <td>70</td>\n",
       "      <td>16</td>\n",
       "      <td>0</td>\n",
       "      <td>1</td>\n",
       "      <td>52.5</td>\n",
       "      <td>0.0</td>\n",
       "      <td>1</td>\n",
       "      <td>0</td>\n",
       "      <td>51</td>\n",
       "      <td>611</td>\n",
       "    </tr>\n",
       "    <tr>\n",
       "      <th>2</th>\n",
       "      <td>24</td>\n",
       "      <td>1</td>\n",
       "      <td>16</td>\n",
       "      <td>0</td>\n",
       "      <td>1</td>\n",
       "      <td>103.5</td>\n",
       "      <td>0.0</td>\n",
       "      <td>1</td>\n",
       "      <td>0</td>\n",
       "      <td>109</td>\n",
       "      <td>1320</td>\n",
       "    </tr>\n",
       "    <tr>\n",
       "      <th>3</th>\n",
       "      <td>21</td>\n",
       "      <td>70</td>\n",
       "      <td>23</td>\n",
       "      <td>1</td>\n",
       "      <td>0</td>\n",
       "      <td>720.0</td>\n",
       "      <td>532.8</td>\n",
       "      <td>0</td>\n",
       "      <td>1</td>\n",
       "      <td>718</td>\n",
       "      <td>8946</td>\n",
       "    </tr>\n",
       "    <tr>\n",
       "      <th>4</th>\n",
       "      <td>35</td>\n",
       "      <td>70</td>\n",
       "      <td>16</td>\n",
       "      <td>0</td>\n",
       "      <td>1</td>\n",
       "      <td>46.5</td>\n",
       "      <td>0.0</td>\n",
       "      <td>1</td>\n",
       "      <td>2</td>\n",
       "      <td>58</td>\n",
       "      <td>722</td>\n",
       "    </tr>\n",
       "  </tbody>\n",
       "</table>\n",
       "</div>"
      ],
      "text/plain": [
       "   url_len  geo_loc  tld  who_is  https  js_len  js_obf_len  label  net_type  \\\n",
       "0       40       62   16       0      1    58.0         0.0      1         0   \n",
       "1       32       70   16       0      1    52.5         0.0      1         0   \n",
       "2       24        1   16       0      1   103.5         0.0      1         0   \n",
       "3       21       70   23       1      0   720.0       532.8      0         1   \n",
       "4       35       70   16       0      1    46.5         0.0      1         2   \n",
       "\n",
       "   special_char  content_len  \n",
       "0            74         1155  \n",
       "1            51          611  \n",
       "2           109         1320  \n",
       "3           718         8946  \n",
       "4            58          722  "
      ]
     },
     "execution_count": 31,
     "metadata": {},
     "output_type": "execute_result"
    }
   ],
   "source": [
    "df_fin = df_train[['url_len', 'geo_loc', 'tld', 'who_is', 'https', 'js_len', 'js_obf_len', 'label', 'net_type', 'special_char', 'content_len']]\n",
    "df_fin.head()"
   ]
  },
  {
   "cell_type": "code",
   "execution_count": 42,
   "metadata": {},
   "outputs": [
    {
     "data": {
      "text/plain": [
       "9762"
      ]
     },
     "execution_count": 42,
     "metadata": {},
     "output_type": "execute_result"
    }
   ],
   "source": [
    "df_train.content_len.max()"
   ]
  },
  {
   "cell_type": "code",
   "execution_count": 74,
   "metadata": {},
   "outputs": [
    {
     "data": {
      "text/plain": [
       "(1200000, 15)"
      ]
     },
     "execution_count": 74,
     "metadata": {},
     "output_type": "execute_result"
    }
   ],
   "source": [
    "df_train.shape"
   ]
  },
  {
   "cell_type": "code",
   "execution_count": 115,
   "metadata": {},
   "outputs": [
    {
     "data": {
      "text/html": [
       "<div>\n",
       "<style scoped>\n",
       "    .dataframe tbody tr th:only-of-type {\n",
       "        vertical-align: middle;\n",
       "    }\n",
       "\n",
       "    .dataframe tbody tr th {\n",
       "        vertical-align: top;\n",
       "    }\n",
       "\n",
       "    .dataframe thead th {\n",
       "        text-align: right;\n",
       "    }\n",
       "</style>\n",
       "<table border=\"1\" class=\"dataframe\">\n",
       "  <thead>\n",
       "    <tr style=\"text-align: right;\">\n",
       "      <th></th>\n",
       "      <th>url</th>\n",
       "      <th>url_len</th>\n",
       "      <th>ip_add</th>\n",
       "      <th>geo_loc</th>\n",
       "      <th>tld</th>\n",
       "      <th>who_is</th>\n",
       "      <th>https</th>\n",
       "      <th>js_len</th>\n",
       "      <th>js_obf_len</th>\n",
       "      <th>content</th>\n",
       "      <th>label</th>\n",
       "      <th>content_len</th>\n",
       "    </tr>\n",
       "  </thead>\n",
       "  <tbody>\n",
       "    <tr>\n",
       "      <th>0</th>\n",
       "      <td>http://members.tripod.com/russiastation/</td>\n",
       "      <td>40</td>\n",
       "      <td>42.77.221.155</td>\n",
       "      <td>Taiwan</td>\n",
       "      <td>com</td>\n",
       "      <td>complete</td>\n",
       "      <td>yes</td>\n",
       "      <td>58.0</td>\n",
       "      <td>0.0</td>\n",
       "      <td>Named themselves charged particles in a manly ...</td>\n",
       "      <td>good</td>\n",
       "      <td>1155</td>\n",
       "    </tr>\n",
       "    <tr>\n",
       "      <th>1</th>\n",
       "      <td>http://www.ddj.com/cpp/184403822</td>\n",
       "      <td>32</td>\n",
       "      <td>3.211.202.180</td>\n",
       "      <td>United States</td>\n",
       "      <td>com</td>\n",
       "      <td>complete</td>\n",
       "      <td>yes</td>\n",
       "      <td>52.5</td>\n",
       "      <td>0.0</td>\n",
       "      <td>And filipino field \\n \\n \\n \\n \\n \\n \\n \\n the...</td>\n",
       "      <td>good</td>\n",
       "      <td>611</td>\n",
       "    </tr>\n",
       "    <tr>\n",
       "      <th>2</th>\n",
       "      <td>http://www.naef-usa.com/</td>\n",
       "      <td>24</td>\n",
       "      <td>24.232.54.41</td>\n",
       "      <td>Argentina</td>\n",
       "      <td>com</td>\n",
       "      <td>complete</td>\n",
       "      <td>yes</td>\n",
       "      <td>103.5</td>\n",
       "      <td>0.0</td>\n",
       "      <td>Took in cognitivism, whose adherents argue for...</td>\n",
       "      <td>good</td>\n",
       "      <td>1320</td>\n",
       "    </tr>\n",
       "    <tr>\n",
       "      <th>3</th>\n",
       "      <td>http://www.ff-b2b.de/</td>\n",
       "      <td>21</td>\n",
       "      <td>147.22.38.45</td>\n",
       "      <td>United States</td>\n",
       "      <td>de</td>\n",
       "      <td>incomplete</td>\n",
       "      <td>no</td>\n",
       "      <td>720.0</td>\n",
       "      <td>532.8</td>\n",
       "      <td>fire cumshot sodomize footaction tortur failed...</td>\n",
       "      <td>bad</td>\n",
       "      <td>8946</td>\n",
       "    </tr>\n",
       "    <tr>\n",
       "      <th>4</th>\n",
       "      <td>http://us.imdb.com/title/tt0176269/</td>\n",
       "      <td>35</td>\n",
       "      <td>205.30.239.85</td>\n",
       "      <td>United States</td>\n",
       "      <td>com</td>\n",
       "      <td>complete</td>\n",
       "      <td>yes</td>\n",
       "      <td>46.5</td>\n",
       "      <td>0.0</td>\n",
       "      <td>Levant, also monsignor georges. In 1800, lists...</td>\n",
       "      <td>good</td>\n",
       "      <td>722</td>\n",
       "    </tr>\n",
       "  </tbody>\n",
       "</table>\n",
       "</div>"
      ],
      "text/plain": [
       "                                        url  url_len         ip_add  \\\n",
       "0  http://members.tripod.com/russiastation/       40  42.77.221.155   \n",
       "1          http://www.ddj.com/cpp/184403822       32  3.211.202.180   \n",
       "2                  http://www.naef-usa.com/       24   24.232.54.41   \n",
       "3                     http://www.ff-b2b.de/       21   147.22.38.45   \n",
       "4       http://us.imdb.com/title/tt0176269/       35  205.30.239.85   \n",
       "\n",
       "         geo_loc  tld      who_is https  js_len  js_obf_len  \\\n",
       "0         Taiwan  com    complete   yes    58.0         0.0   \n",
       "1  United States  com    complete   yes    52.5         0.0   \n",
       "2      Argentina  com    complete   yes   103.5         0.0   \n",
       "3  United States   de  incomplete    no   720.0       532.8   \n",
       "4  United States  com    complete   yes    46.5         0.0   \n",
       "\n",
       "                                             content label  content_len  \n",
       "0  Named themselves charged particles in a manly ...  good         1155  \n",
       "1  And filipino field \\n \\n \\n \\n \\n \\n \\n \\n the...  good          611  \n",
       "2  Took in cognitivism, whose adherents argue for...  good         1320  \n",
       "3  fire cumshot sodomize footaction tortur failed...   bad         8946  \n",
       "4  Levant, also monsignor georges. In 1800, lists...  good          722  "
      ]
     },
     "execution_count": 115,
     "metadata": {},
     "output_type": "execute_result"
    }
   ],
   "source": [
    "df_train.head()"
   ]
  },
  {
   "cell_type": "code",
   "execution_count": 108,
   "metadata": {},
   "outputs": [
    {
     "data": {
      "text/plain": [
       "(1200000, 12)"
      ]
     },
     "execution_count": 108,
     "metadata": {},
     "output_type": "execute_result"
    }
   ],
   "source": [
    "df_train.shape"
   ]
  },
  {
   "cell_type": "code",
   "execution_count": 116,
   "metadata": {},
   "outputs": [],
   "source": [
    "# con = e.transform(df_train['content_len'].values.reshape(-1, 1))"
   ]
  },
  {
   "cell_type": "code",
   "execution_count": 117,
   "metadata": {},
   "outputs": [
    {
     "data": {
      "text/plain": [
       "array([[-0.45276466],\n",
       "       [-0.95867298],\n",
       "       [-0.2993182 ],\n",
       "       ...,\n",
       "       [ 0.28470832],\n",
       "       [ 0.0038548 ],\n",
       "       [-0.13006211]])"
      ]
     },
     "execution_count": 117,
     "metadata": {},
     "output_type": "execute_result"
    }
   ],
   "source": [
    "# con"
   ]
  },
  {
   "cell_type": "code",
   "execution_count": 68,
   "metadata": {},
   "outputs": [],
   "source": [
    "from sklearn.preprocessing import StandardScaler"
   ]
  },
  {
   "cell_type": "code",
   "execution_count": 69,
   "metadata": {},
   "outputs": [],
   "source": [
    "ss_1 = StandardScaler()\n",
    "ss_2 = StandardScaler()\n",
    "\n",
    "# dict_ss = {'content_len' : ss_1, 'special_char' : ss_2}\n",
    "\n",
    "con = ss_1.fit(df_train['content_len'].values.reshape(-1, 1))\n",
    "spec = ss_2.fit(df_train['special_char'].values.reshape(-1, 1))"
   ]
  },
  {
   "cell_type": "code",
   "execution_count": 70,
   "metadata": {},
   "outputs": [],
   "source": [
    "import pickle\n",
    "\n",
    "output = open('le_ss/special_char_ss.pkl', 'wb')\n",
    "pickle.dump(spec, output)\n",
    "output.close()\n",
    "\n",
    "output = open('le_ss/content_len_ss.pkl', 'wb')\n",
    "pickle.dump(con, output)\n",
    "output.close()\n",
    "\n",
    "# pkl_file = open('le_ss/content_ss.pkl', 'rb')\n",
    "# e = pickle.load(pkl_file) \n",
    "# pkl_file.close()"
   ]
  },
  {
   "cell_type": "code",
   "execution_count": 71,
   "metadata": {},
   "outputs": [],
   "source": [
    "import pickle\n",
    "\n",
    "# output = open('le_ss/content_ss.pkl', 'wb')\n",
    "# pickle.dump(con, output)\n",
    "# output.close()\n",
    "\n",
    "pkl_file = open('le_ss/special_char_ss.pkl', 'rb')\n",
    "e = pickle.load(pkl_file) \n",
    "pkl_file.close()\n",
    "\n",
    "pkl_file = open('le_ss/content_len_ss.pkl', 'rb')\n",
    "e1 = pickle.load(pkl_file) \n",
    "pkl_file.close()"
   ]
  },
  {
   "cell_type": "code",
   "execution_count": null,
   "metadata": {},
   "outputs": [],
   "source": [
    "import plotly.graph_objects as go\n",
    "import plotly.express as px\n",
    "\n",
    "fig = px.choropleth(con, locations = con.index.tolist(),\n",
    "                    color = \"content_len\",\n",
    "                    color_continuous_scale = px.colors.sequential.Viridis)\n",
    "fig.show()"
   ]
  },
  {
   "cell_type": "code",
   "execution_count": 33,
   "metadata": {},
   "outputs": [
    {
     "ename": "NameError",
     "evalue": "name 'county' is not defined",
     "output_type": "error",
     "traceback": [
      "\u001b[0;31m---------------------------------------------------------------------------\u001b[0m",
      "\u001b[0;31mNameError\u001b[0m                                 Traceback (most recent call last)",
      "\u001b[0;32m<ipython-input-33-35f5acc13b69>\u001b[0m in \u001b[0;36m<module>\u001b[0;34m\u001b[0m\n\u001b[0;32m----> 1\u001b[0;31m \u001b[0mcounty\u001b[0m\u001b[0;34m\u001b[0m\u001b[0;34m\u001b[0m\u001b[0m\n\u001b[0m",
      "\u001b[0;31mNameError\u001b[0m: name 'county' is not defined"
     ]
    }
   ],
   "source": [
    "county"
   ]
  },
  {
   "cell_type": "code",
   "execution_count": 32,
   "metadata": {},
   "outputs": [
    {
     "data": {
      "text/plain": [
       "'com'"
      ]
     },
     "execution_count": 32,
     "metadata": {},
     "output_type": "execute_result"
    }
   ],
   "source": [
    "df_train.tld.values[0]"
   ]
  },
  {
   "cell_type": "code",
   "execution_count": 72,
   "metadata": {},
   "outputs": [],
   "source": [
    "spec = e.transform(df_train['special_char'].values.reshape(-1, 1))\n",
    "con = e1.transform(df_train['content_len'].values.reshape(-1, 1))"
   ]
  },
  {
   "cell_type": "code",
   "execution_count": 137,
   "metadata": {},
   "outputs": [],
   "source": [
    "df_train['content_len_n'] = pd.DataFrame(con, index = df_train.index, columns = ['content_len'])\n",
    "df_train['special_char_n'] = pd.DataFrame(spec, index = df_train.index, columns = ['special_char'])"
   ]
  },
  {
   "cell_type": "code",
   "execution_count": 138,
   "metadata": {},
   "outputs": [
    {
     "data": {
      "text/html": [
       "<div>\n",
       "<style scoped>\n",
       "    .dataframe tbody tr th:only-of-type {\n",
       "        vertical-align: middle;\n",
       "    }\n",
       "\n",
       "    .dataframe tbody tr th {\n",
       "        vertical-align: top;\n",
       "    }\n",
       "\n",
       "    .dataframe thead th {\n",
       "        text-align: right;\n",
       "    }\n",
       "</style>\n",
       "<table border=\"1\" class=\"dataframe\">\n",
       "  <thead>\n",
       "    <tr style=\"text-align: right;\">\n",
       "      <th></th>\n",
       "      <th>url</th>\n",
       "      <th>url_len</th>\n",
       "      <th>ip_add</th>\n",
       "      <th>geo_loc</th>\n",
       "      <th>tld</th>\n",
       "      <th>who_is</th>\n",
       "      <th>https</th>\n",
       "      <th>js_len</th>\n",
       "      <th>js_obf_len</th>\n",
       "      <th>content</th>\n",
       "      <th>label</th>\n",
       "      <th>net_part</th>\n",
       "      <th>net_type</th>\n",
       "      <th>special_char</th>\n",
       "      <th>content_len</th>\n",
       "      <th>content_len_n</th>\n",
       "      <th>special_char_n</th>\n",
       "    </tr>\n",
       "  </thead>\n",
       "  <tbody>\n",
       "    <tr>\n",
       "      <th>0</th>\n",
       "      <td>http://members.tripod.com/russiastation/</td>\n",
       "      <td>40</td>\n",
       "      <td>42.77.221.155</td>\n",
       "      <td>Taiwan</td>\n",
       "      <td>com</td>\n",
       "      <td>complete</td>\n",
       "      <td>yes</td>\n",
       "      <td>58.0</td>\n",
       "      <td>0.0</td>\n",
       "      <td>Named themselves charged particles in a manly ...</td>\n",
       "      <td>good</td>\n",
       "      <td>42</td>\n",
       "      <td>A</td>\n",
       "      <td>74</td>\n",
       "      <td>1155</td>\n",
       "      <td>-0.452765</td>\n",
       "      <td>-0.770540</td>\n",
       "    </tr>\n",
       "    <tr>\n",
       "      <th>1</th>\n",
       "      <td>http://www.ddj.com/cpp/184403822</td>\n",
       "      <td>32</td>\n",
       "      <td>3.211.202.180</td>\n",
       "      <td>United States</td>\n",
       "      <td>com</td>\n",
       "      <td>complete</td>\n",
       "      <td>yes</td>\n",
       "      <td>52.5</td>\n",
       "      <td>0.0</td>\n",
       "      <td>And filipino field \\n \\n \\n \\n \\n \\n \\n \\n the...</td>\n",
       "      <td>good</td>\n",
       "      <td>3</td>\n",
       "      <td>A</td>\n",
       "      <td>51</td>\n",
       "      <td>611</td>\n",
       "      <td>-0.958673</td>\n",
       "      <td>-1.020689</td>\n",
       "    </tr>\n",
       "    <tr>\n",
       "      <th>2</th>\n",
       "      <td>http://www.naef-usa.com/</td>\n",
       "      <td>24</td>\n",
       "      <td>24.232.54.41</td>\n",
       "      <td>Argentina</td>\n",
       "      <td>com</td>\n",
       "      <td>complete</td>\n",
       "      <td>yes</td>\n",
       "      <td>103.5</td>\n",
       "      <td>0.0</td>\n",
       "      <td>Took in cognitivism, whose adherents argue for...</td>\n",
       "      <td>good</td>\n",
       "      <td>24</td>\n",
       "      <td>A</td>\n",
       "      <td>109</td>\n",
       "      <td>1320</td>\n",
       "      <td>-0.299318</td>\n",
       "      <td>-0.389878</td>\n",
       "    </tr>\n",
       "    <tr>\n",
       "      <th>3</th>\n",
       "      <td>http://www.ff-b2b.de/</td>\n",
       "      <td>21</td>\n",
       "      <td>147.22.38.45</td>\n",
       "      <td>United States</td>\n",
       "      <td>de</td>\n",
       "      <td>incomplete</td>\n",
       "      <td>no</td>\n",
       "      <td>720.0</td>\n",
       "      <td>532.8</td>\n",
       "      <td>fire cumshot sodomize footaction tortur failed...</td>\n",
       "      <td>bad</td>\n",
       "      <td>147.22</td>\n",
       "      <td>B</td>\n",
       "      <td>718</td>\n",
       "      <td>8946</td>\n",
       "      <td>6.792698</td>\n",
       "      <td>6.233631</td>\n",
       "    </tr>\n",
       "    <tr>\n",
       "      <th>4</th>\n",
       "      <td>http://us.imdb.com/title/tt0176269/</td>\n",
       "      <td>35</td>\n",
       "      <td>205.30.239.85</td>\n",
       "      <td>United States</td>\n",
       "      <td>com</td>\n",
       "      <td>complete</td>\n",
       "      <td>yes</td>\n",
       "      <td>46.5</td>\n",
       "      <td>0.0</td>\n",
       "      <td>Levant, also monsignor georges. In 1800, lists...</td>\n",
       "      <td>good</td>\n",
       "      <td>205.30.239</td>\n",
       "      <td>C</td>\n",
       "      <td>58</td>\n",
       "      <td>722</td>\n",
       "      <td>-0.855445</td>\n",
       "      <td>-0.944556</td>\n",
       "    </tr>\n",
       "  </tbody>\n",
       "</table>\n",
       "</div>"
      ],
      "text/plain": [
       "                                        url  url_len         ip_add  \\\n",
       "0  http://members.tripod.com/russiastation/       40  42.77.221.155   \n",
       "1          http://www.ddj.com/cpp/184403822       32  3.211.202.180   \n",
       "2                  http://www.naef-usa.com/       24   24.232.54.41   \n",
       "3                     http://www.ff-b2b.de/       21   147.22.38.45   \n",
       "4       http://us.imdb.com/title/tt0176269/       35  205.30.239.85   \n",
       "\n",
       "         geo_loc  tld      who_is https  js_len  js_obf_len  \\\n",
       "0         Taiwan  com    complete   yes    58.0         0.0   \n",
       "1  United States  com    complete   yes    52.5         0.0   \n",
       "2      Argentina  com    complete   yes   103.5         0.0   \n",
       "3  United States   de  incomplete    no   720.0       532.8   \n",
       "4  United States  com    complete   yes    46.5         0.0   \n",
       "\n",
       "                                             content label    net_part  \\\n",
       "0  Named themselves charged particles in a manly ...  good          42   \n",
       "1  And filipino field \\n \\n \\n \\n \\n \\n \\n \\n the...  good           3   \n",
       "2  Took in cognitivism, whose adherents argue for...  good          24   \n",
       "3  fire cumshot sodomize footaction tortur failed...   bad      147.22   \n",
       "4  Levant, also monsignor georges. In 1800, lists...  good  205.30.239   \n",
       "\n",
       "  net_type  special_char  content_len  content_len_n  special_char_n  \n",
       "0        A            74         1155      -0.452765       -0.770540  \n",
       "1        A            51          611      -0.958673       -1.020689  \n",
       "2        A           109         1320      -0.299318       -0.389878  \n",
       "3        B           718         8946       6.792698        6.233631  \n",
       "4        C            58          722      -0.855445       -0.944556  "
      ]
     },
     "execution_count": 138,
     "metadata": {},
     "output_type": "execute_result"
    }
   ],
   "source": [
    "df_train.head()"
   ]
  },
  {
   "cell_type": "code",
   "execution_count": 86,
   "metadata": {},
   "outputs": [
    {
     "data": {
      "text/plain": [
       "array([[-0.7705397 ],\n",
       "       [-1.02068867],\n",
       "       [-0.38987823],\n",
       "       ...,\n",
       "       [ 0.74123014],\n",
       "       [ 0.12129575],\n",
       "       [-0.30286989]])"
      ]
     },
     "execution_count": 86,
     "metadata": {},
     "output_type": "execute_result"
    }
   ],
   "source": [
    "spec"
   ]
  },
  {
   "cell_type": "code",
   "execution_count": 90,
   "metadata": {},
   "outputs": [
    {
     "data": {
      "text/plain": [
       "array([[-0.45276466],\n",
       "       [-0.95867298],\n",
       "       [-0.2993182 ],\n",
       "       ...,\n",
       "       [ 0.28470832],\n",
       "       [ 0.0038548 ],\n",
       "       [-0.13006211]])"
      ]
     },
     "execution_count": 90,
     "metadata": {},
     "output_type": "execute_result"
    }
   ],
   "source": [
    "con"
   ]
  },
  {
   "cell_type": "code",
   "execution_count": null,
   "metadata": {},
   "outputs": [],
   "source": [
    "con = "
   ]
  },
  {
   "cell_type": "code",
   "execution_count": 88,
   "metadata": {},
   "outputs": [],
   "source": [
    "df_train['content_len_n'] = pd.DataFrame(con, index = df_train.index, columns = ['content_len'])\n",
    "df_train['special_char_n'] = pd.DataFrame(spec, index = df_train.index, columns = ['special_char'])"
   ]
  },
  {
   "cell_type": "code",
   "execution_count": 89,
   "metadata": {},
   "outputs": [
    {
     "data": {
      "text/html": [
       "<div>\n",
       "<style scoped>\n",
       "    .dataframe tbody tr th:only-of-type {\n",
       "        vertical-align: middle;\n",
       "    }\n",
       "\n",
       "    .dataframe tbody tr th {\n",
       "        vertical-align: top;\n",
       "    }\n",
       "\n",
       "    .dataframe thead th {\n",
       "        text-align: right;\n",
       "    }\n",
       "</style>\n",
       "<table border=\"1\" class=\"dataframe\">\n",
       "  <thead>\n",
       "    <tr style=\"text-align: right;\">\n",
       "      <th></th>\n",
       "      <th>url</th>\n",
       "      <th>url_len</th>\n",
       "      <th>ip_add</th>\n",
       "      <th>geo_loc</th>\n",
       "      <th>tld</th>\n",
       "      <th>who_is</th>\n",
       "      <th>https</th>\n",
       "      <th>js_len</th>\n",
       "      <th>js_obf_len</th>\n",
       "      <th>content</th>\n",
       "      <th>label</th>\n",
       "      <th>net_part</th>\n",
       "      <th>net_type</th>\n",
       "      <th>special_char</th>\n",
       "      <th>content_len</th>\n",
       "      <th>content_len_n</th>\n",
       "      <th>special_char_n</th>\n",
       "    </tr>\n",
       "  </thead>\n",
       "  <tbody>\n",
       "    <tr>\n",
       "      <th>0</th>\n",
       "      <td>http://members.tripod.com/russiastation/</td>\n",
       "      <td>40</td>\n",
       "      <td>42.77.221.155</td>\n",
       "      <td>205</td>\n",
       "      <td>195</td>\n",
       "      <td>0</td>\n",
       "      <td>1</td>\n",
       "      <td>58.0</td>\n",
       "      <td>0.0</td>\n",
       "      <td>Named themselves charged particles in a manly ...</td>\n",
       "      <td>1</td>\n",
       "      <td>42</td>\n",
       "      <td>0</td>\n",
       "      <td>74</td>\n",
       "      <td>1155</td>\n",
       "      <td>-0.452765</td>\n",
       "      <td>-0.770540</td>\n",
       "    </tr>\n",
       "    <tr>\n",
       "      <th>1</th>\n",
       "      <td>http://www.ddj.com/cpp/184403822</td>\n",
       "      <td>32</td>\n",
       "      <td>3.211.202.180</td>\n",
       "      <td>222</td>\n",
       "      <td>195</td>\n",
       "      <td>0</td>\n",
       "      <td>1</td>\n",
       "      <td>52.5</td>\n",
       "      <td>0.0</td>\n",
       "      <td>And filipino field \\n \\n \\n \\n \\n \\n \\n \\n the...</td>\n",
       "      <td>1</td>\n",
       "      <td>3</td>\n",
       "      <td>0</td>\n",
       "      <td>51</td>\n",
       "      <td>611</td>\n",
       "      <td>-0.958673</td>\n",
       "      <td>-1.020689</td>\n",
       "    </tr>\n",
       "    <tr>\n",
       "      <th>2</th>\n",
       "      <td>http://www.naef-usa.com/</td>\n",
       "      <td>24</td>\n",
       "      <td>24.232.54.41</td>\n",
       "      <td>9</td>\n",
       "      <td>195</td>\n",
       "      <td>0</td>\n",
       "      <td>1</td>\n",
       "      <td>103.5</td>\n",
       "      <td>0.0</td>\n",
       "      <td>Took in cognitivism, whose adherents argue for...</td>\n",
       "      <td>1</td>\n",
       "      <td>24</td>\n",
       "      <td>0</td>\n",
       "      <td>109</td>\n",
       "      <td>1320</td>\n",
       "      <td>-0.299318</td>\n",
       "      <td>-0.389878</td>\n",
       "    </tr>\n",
       "    <tr>\n",
       "      <th>3</th>\n",
       "      <td>http://www.ff-b2b.de/</td>\n",
       "      <td>21</td>\n",
       "      <td>147.22.38.45</td>\n",
       "      <td>222</td>\n",
       "      <td>282</td>\n",
       "      <td>1</td>\n",
       "      <td>0</td>\n",
       "      <td>720.0</td>\n",
       "      <td>532.8</td>\n",
       "      <td>fire cumshot sodomize footaction tortur failed...</td>\n",
       "      <td>0</td>\n",
       "      <td>147.22</td>\n",
       "      <td>1</td>\n",
       "      <td>718</td>\n",
       "      <td>8946</td>\n",
       "      <td>6.792698</td>\n",
       "      <td>6.233631</td>\n",
       "    </tr>\n",
       "    <tr>\n",
       "      <th>4</th>\n",
       "      <td>http://us.imdb.com/title/tt0176269/</td>\n",
       "      <td>35</td>\n",
       "      <td>205.30.239.85</td>\n",
       "      <td>222</td>\n",
       "      <td>195</td>\n",
       "      <td>0</td>\n",
       "      <td>1</td>\n",
       "      <td>46.5</td>\n",
       "      <td>0.0</td>\n",
       "      <td>Levant, also monsignor georges. In 1800, lists...</td>\n",
       "      <td>1</td>\n",
       "      <td>205.30.239</td>\n",
       "      <td>2</td>\n",
       "      <td>58</td>\n",
       "      <td>722</td>\n",
       "      <td>-0.855445</td>\n",
       "      <td>-0.944556</td>\n",
       "    </tr>\n",
       "  </tbody>\n",
       "</table>\n",
       "</div>"
      ],
      "text/plain": [
       "                                        url  url_len         ip_add  geo_loc  \\\n",
       "0  http://members.tripod.com/russiastation/       40  42.77.221.155      205   \n",
       "1          http://www.ddj.com/cpp/184403822       32  3.211.202.180      222   \n",
       "2                  http://www.naef-usa.com/       24   24.232.54.41        9   \n",
       "3                     http://www.ff-b2b.de/       21   147.22.38.45      222   \n",
       "4       http://us.imdb.com/title/tt0176269/       35  205.30.239.85      222   \n",
       "\n",
       "   tld  who_is  https  js_len  js_obf_len  \\\n",
       "0  195       0      1    58.0         0.0   \n",
       "1  195       0      1    52.5         0.0   \n",
       "2  195       0      1   103.5         0.0   \n",
       "3  282       1      0   720.0       532.8   \n",
       "4  195       0      1    46.5         0.0   \n",
       "\n",
       "                                             content  label    net_part  \\\n",
       "0  Named themselves charged particles in a manly ...      1          42   \n",
       "1  And filipino field \\n \\n \\n \\n \\n \\n \\n \\n the...      1           3   \n",
       "2  Took in cognitivism, whose adherents argue for...      1          24   \n",
       "3  fire cumshot sodomize footaction tortur failed...      0      147.22   \n",
       "4  Levant, also monsignor georges. In 1800, lists...      1  205.30.239   \n",
       "\n",
       "   net_type  special_char  content_len  content_len_n  special_char_n  \n",
       "0         0            74         1155      -0.452765       -0.770540  \n",
       "1         0            51          611      -0.958673       -1.020689  \n",
       "2         0           109         1320      -0.299318       -0.389878  \n",
       "3         1           718         8946       6.792698        6.233631  \n",
       "4         2            58          722      -0.855445       -0.944556  "
      ]
     },
     "execution_count": 89,
     "metadata": {},
     "output_type": "execute_result"
    }
   ],
   "source": [
    "df_train.head()"
   ]
  },
  {
   "cell_type": "code",
   "execution_count": 10,
   "metadata": {},
   "outputs": [
    {
     "data": {
      "text/html": [
       "<div>\n",
       "<style scoped>\n",
       "    .dataframe tbody tr th:only-of-type {\n",
       "        vertical-align: middle;\n",
       "    }\n",
       "\n",
       "    .dataframe tbody tr th {\n",
       "        vertical-align: top;\n",
       "    }\n",
       "\n",
       "    .dataframe thead th {\n",
       "        text-align: right;\n",
       "    }\n",
       "</style>\n",
       "<table border=\"1\" class=\"dataframe\">\n",
       "  <thead>\n",
       "    <tr style=\"text-align: right;\">\n",
       "      <th></th>\n",
       "      <th>url</th>\n",
       "      <th>url_len</th>\n",
       "      <th>ip_add</th>\n",
       "      <th>geo_loc</th>\n",
       "      <th>tld</th>\n",
       "      <th>who_is</th>\n",
       "      <th>https</th>\n",
       "      <th>js_len</th>\n",
       "      <th>js_obf_len</th>\n",
       "      <th>content</th>\n",
       "      <th>label</th>\n",
       "    </tr>\n",
       "  </thead>\n",
       "  <tbody>\n",
       "    <tr>\n",
       "      <th>2</th>\n",
       "      <td>http://www.naef-usa.com/</td>\n",
       "      <td>24</td>\n",
       "      <td>24.232.54.41</td>\n",
       "      <td>Argentina</td>\n",
       "      <td>com</td>\n",
       "      <td>complete</td>\n",
       "      <td>yes</td>\n",
       "      <td>103.5</td>\n",
       "      <td>0.0</td>\n",
       "      <td>Took in cognitivism, whose adherents argue for...</td>\n",
       "      <td>good</td>\n",
       "    </tr>\n",
       "  </tbody>\n",
       "</table>\n",
       "</div>"
      ],
      "text/plain": [
       "                        url  url_len        ip_add    geo_loc  tld    who_is  \\\n",
       "2  http://www.naef-usa.com/       24  24.232.54.41  Argentina  com  complete   \n",
       "\n",
       "  https  js_len  js_obf_len  \\\n",
       "2   yes   103.5         0.0   \n",
       "\n",
       "                                             content label  \n",
       "2  Took in cognitivism, whose adherents argue for...  good  "
      ]
     },
     "execution_count": 10,
     "metadata": {},
     "output_type": "execute_result"
    }
   ],
   "source": [
    "df_train.loc[df_train.url == 'http://www.naef-usa.com/', :]"
   ]
  },
  {
   "cell_type": "code",
   "execution_count": 11,
   "metadata": {},
   "outputs": [],
   "source": [
    "a = {'url': 'https://www.google.com', 'geo_loc': 'United States', 'ip_add': '172.217.167.196', 'tld': 'com', 'js_len': 4343.0, 'js_obf_len': 43434343.0, 'https': 'yes', 'content': '225245gff5vy7kkl8 l ; 9/nn6n5rbr7bv5jv5', 'url_len': 22, 'who_is': 'Complete', 'special_char': 2, 'content_len': 39, 'net_type': 'B'}"
   ]
  },
  {
   "cell_type": "code",
   "execution_count": 29,
   "metadata": {},
   "outputs": [
    {
     "data": {
      "text/html": [
       "<div>\n",
       "<style scoped>\n",
       "    .dataframe tbody tr th:only-of-type {\n",
       "        vertical-align: middle;\n",
       "    }\n",
       "\n",
       "    .dataframe tbody tr th {\n",
       "        vertical-align: top;\n",
       "    }\n",
       "\n",
       "    .dataframe thead th {\n",
       "        text-align: right;\n",
       "    }\n",
       "</style>\n",
       "<table border=\"1\" class=\"dataframe\">\n",
       "  <thead>\n",
       "    <tr style=\"text-align: right;\">\n",
       "      <th></th>\n",
       "      <th>url</th>\n",
       "      <th>geo_loc</th>\n",
       "      <th>ip_add</th>\n",
       "      <th>tld</th>\n",
       "      <th>js_len</th>\n",
       "      <th>js_obf_len</th>\n",
       "      <th>https</th>\n",
       "      <th>content</th>\n",
       "      <th>url_len</th>\n",
       "      <th>who_is</th>\n",
       "      <th>special_char</th>\n",
       "      <th>content_len</th>\n",
       "      <th>net_type</th>\n",
       "    </tr>\n",
       "  </thead>\n",
       "  <tbody>\n",
       "    <tr>\n",
       "      <th>0</th>\n",
       "      <td>https://www.google.com</td>\n",
       "      <td>United States</td>\n",
       "      <td>172.217.167.196</td>\n",
       "      <td>com</td>\n",
       "      <td>4343.0</td>\n",
       "      <td>43434343.0</td>\n",
       "      <td>yes</td>\n",
       "      <td>225245gff5vy7kkl8 l ; 9/nn6n5rbr7bv5jv5</td>\n",
       "      <td>22</td>\n",
       "      <td>Complete</td>\n",
       "      <td>2</td>\n",
       "      <td>39</td>\n",
       "      <td>B</td>\n",
       "    </tr>\n",
       "  </tbody>\n",
       "</table>\n",
       "</div>"
      ],
      "text/plain": [
       "                      url        geo_loc           ip_add  tld  js_len  \\\n",
       "0  https://www.google.com  United States  172.217.167.196  com  4343.0   \n",
       "\n",
       "   js_obf_len https                                  content  url_len  \\\n",
       "0  43434343.0   yes  225245gff5vy7kkl8 l ; 9/nn6n5rbr7bv5jv5       22   \n",
       "\n",
       "     who_is  special_char  content_len net_type  \n",
       "0  Complete             2           39        B  "
      ]
     },
     "execution_count": 29,
     "metadata": {},
     "output_type": "execute_result"
    }
   ],
   "source": [
    "pd.DataFrame([a])"
   ]
  },
  {
   "cell_type": "code",
   "execution_count": 30,
   "metadata": {},
   "outputs": [
    {
     "data": {
      "text/plain": [
       "['url_len',\n",
       " 'geo_loc',\n",
       " 'tld',\n",
       " 'who_is',\n",
       " 'https',\n",
       " 'js_len',\n",
       " 'js_obf_len',\n",
       " 'label',\n",
       " 'net_type',\n",
       " 'special_char',\n",
       " 'content_len']"
      ]
     },
     "execution_count": 30,
     "metadata": {},
     "output_type": "execute_result"
    }
   ],
   "source": [
    "['url_len', 'geo_loc', 'tld', 'who_is', 'https', 'js_len', 'js_obf_len', 'label', 'net_type', 'special_char', 'content_len']"
   ]
  },
  {
   "cell_type": "code",
   "execution_count": 80,
   "metadata": {},
   "outputs": [],
   "source": [
    "from sklearn import model_selection"
   ]
  },
  {
   "cell_type": "code",
   "execution_count": 92,
   "metadata": {},
   "outputs": [],
   "source": [
    "# Cross validation -- StratifiedKFolds\n",
    "from cross_val import create_folds\n",
    "\n",
    "df = create_folds(df_train)"
   ]
  },
  {
   "cell_type": "code",
   "execution_count": 95,
   "metadata": {},
   "outputs": [
    {
     "data": {
      "text/html": [
       "<div>\n",
       "<style scoped>\n",
       "    .dataframe tbody tr th:only-of-type {\n",
       "        vertical-align: middle;\n",
       "    }\n",
       "\n",
       "    .dataframe tbody tr th {\n",
       "        vertical-align: top;\n",
       "    }\n",
       "\n",
       "    .dataframe thead th {\n",
       "        text-align: right;\n",
       "    }\n",
       "</style>\n",
       "<table border=\"1\" class=\"dataframe\">\n",
       "  <thead>\n",
       "    <tr style=\"text-align: right;\">\n",
       "      <th></th>\n",
       "      <th>url</th>\n",
       "      <th>url_len</th>\n",
       "      <th>ip_add</th>\n",
       "      <th>geo_loc</th>\n",
       "      <th>tld</th>\n",
       "      <th>who_is</th>\n",
       "      <th>https</th>\n",
       "      <th>js_len</th>\n",
       "      <th>js_obf_len</th>\n",
       "      <th>content</th>\n",
       "      <th>label</th>\n",
       "      <th>kfolds</th>\n",
       "      <th>kfold</th>\n",
       "    </tr>\n",
       "  </thead>\n",
       "  <tbody>\n",
       "    <tr>\n",
       "      <th>0</th>\n",
       "      <td>http://www.fbcwhiteville.com/</td>\n",
       "      <td>29</td>\n",
       "      <td>219.28.126.249</td>\n",
       "      <td>Japan</td>\n",
       "      <td>com</td>\n",
       "      <td>complete</td>\n",
       "      <td>yes</td>\n",
       "      <td>122.5</td>\n",
       "      <td>0.0</td>\n",
       "      <td>One at airlift training in general surgery, wh...</td>\n",
       "      <td>good</td>\n",
       "      <td>-1</td>\n",
       "      <td>0</td>\n",
       "    </tr>\n",
       "    <tr>\n",
       "      <th>1</th>\n",
       "      <td>http://www.breezecare.com/</td>\n",
       "      <td>26</td>\n",
       "      <td>142.35.98.15</td>\n",
       "      <td>Canada</td>\n",
       "      <td>com</td>\n",
       "      <td>complete</td>\n",
       "      <td>yes</td>\n",
       "      <td>142.5</td>\n",
       "      <td>0.0</td>\n",
       "      <td>Is declared those responsible. And timely that...</td>\n",
       "      <td>good</td>\n",
       "      <td>-1</td>\n",
       "      <td>0</td>\n",
       "    </tr>\n",
       "    <tr>\n",
       "      <th>2</th>\n",
       "      <td>http://www.bakedeco.com/</td>\n",
       "      <td>24</td>\n",
       "      <td>83.17.106.2</td>\n",
       "      <td>Poland</td>\n",
       "      <td>com</td>\n",
       "      <td>complete</td>\n",
       "      <td>yes</td>\n",
       "      <td>180.5</td>\n",
       "      <td>0.0</td>\n",
       "      <td>An explanatory world rankings for the 2000 dem...</td>\n",
       "      <td>good</td>\n",
       "      <td>-1</td>\n",
       "      <td>0</td>\n",
       "    </tr>\n",
       "    <tr>\n",
       "      <th>3</th>\n",
       "      <td>http://www.angelfire.com/mo/jonst/</td>\n",
       "      <td>34</td>\n",
       "      <td>72.158.174.122</td>\n",
       "      <td>United States</td>\n",
       "      <td>com</td>\n",
       "      <td>complete</td>\n",
       "      <td>yes</td>\n",
       "      <td>84.0</td>\n",
       "      <td>0.0</td>\n",
       "      <td>Same pattern documents. an egyptian court rule...</td>\n",
       "      <td>good</td>\n",
       "      <td>-1</td>\n",
       "      <td>0</td>\n",
       "    </tr>\n",
       "    <tr>\n",
       "      <th>4</th>\n",
       "      <td>http://www.paperrelics.com/journal/</td>\n",
       "      <td>35</td>\n",
       "      <td>182.42.183.40</td>\n",
       "      <td>China</td>\n",
       "      <td>com</td>\n",
       "      <td>complete</td>\n",
       "      <td>no</td>\n",
       "      <td>32.5</td>\n",
       "      <td>0.0</td>\n",
       "      <td>Between substances reality one\" (europa, asia,...</td>\n",
       "      <td>good</td>\n",
       "      <td>-1</td>\n",
       "      <td>0</td>\n",
       "    </tr>\n",
       "  </tbody>\n",
       "</table>\n",
       "</div>"
      ],
      "text/plain": [
       "                                   url  url_len          ip_add  \\\n",
       "0        http://www.fbcwhiteville.com/       29  219.28.126.249   \n",
       "1           http://www.breezecare.com/       26    142.35.98.15   \n",
       "2             http://www.bakedeco.com/       24     83.17.106.2   \n",
       "3   http://www.angelfire.com/mo/jonst/       34  72.158.174.122   \n",
       "4  http://www.paperrelics.com/journal/       35   182.42.183.40   \n",
       "\n",
       "         geo_loc  tld    who_is https  js_len  js_obf_len  \\\n",
       "0          Japan  com  complete   yes   122.5         0.0   \n",
       "1         Canada  com  complete   yes   142.5         0.0   \n",
       "2         Poland  com  complete   yes   180.5         0.0   \n",
       "3  United States  com  complete   yes    84.0         0.0   \n",
       "4          China  com  complete    no    32.5         0.0   \n",
       "\n",
       "                                             content label  kfolds  kfold  \n",
       "0  One at airlift training in general surgery, wh...  good      -1      0  \n",
       "1  Is declared those responsible. And timely that...  good      -1      0  \n",
       "2  An explanatory world rankings for the 2000 dem...  good      -1      0  \n",
       "3  Same pattern documents. an egyptian court rule...  good      -1      0  \n",
       "4  Between substances reality one\" (europa, asia,...  good      -1      0  "
      ]
     },
     "execution_count": 95,
     "metadata": {},
     "output_type": "execute_result"
    }
   ],
   "source": [
    "df.head()"
   ]
  },
  {
   "cell_type": "code",
   "execution_count": 97,
   "metadata": {},
   "outputs": [
    {
     "data": {
      "text/plain": [
       "4    20000\n",
       "3    20000\n",
       "2    20000\n",
       "1    20000\n",
       "0    20000\n",
       "Name: kfold, dtype: int64"
      ]
     },
     "execution_count": 97,
     "metadata": {},
     "output_type": "execute_result"
    }
   ],
   "source": [
    "df.kfold.value_counts()"
   ]
  },
  {
   "cell_type": "code",
   "execution_count": null,
   "metadata": {},
   "outputs": [],
   "source": []
  },
  {
   "cell_type": "code",
   "execution_count": null,
   "metadata": {},
   "outputs": [],
   "source": []
  },
  {
   "cell_type": "code",
   "execution_count": null,
   "metadata": {},
   "outputs": [],
   "source": []
  },
  {
   "cell_type": "code",
   "execution_count": null,
   "metadata": {},
   "outputs": [],
   "source": []
  },
  {
   "cell_type": "code",
   "execution_count": null,
   "metadata": {},
   "outputs": [],
   "source": []
  },
  {
   "cell_type": "code",
   "execution_count": null,
   "metadata": {},
   "outputs": [],
   "source": []
  },
  {
   "cell_type": "code",
   "execution_count": null,
   "metadata": {},
   "outputs": [],
   "source": []
  },
  {
   "cell_type": "code",
   "execution_count": null,
   "metadata": {},
   "outputs": [],
   "source": []
  },
  {
   "cell_type": "code",
   "execution_count": null,
   "metadata": {},
   "outputs": [],
   "source": []
  },
  {
   "cell_type": "code",
   "execution_count": null,
   "metadata": {},
   "outputs": [],
   "source": []
  },
  {
   "cell_type": "code",
   "execution_count": null,
   "metadata": {},
   "outputs": [],
   "source": []
  },
  {
   "cell_type": "code",
   "execution_count": null,
   "metadata": {},
   "outputs": [],
   "source": []
  },
  {
   "cell_type": "code",
   "execution_count": null,
   "metadata": {},
   "outputs": [],
   "source": []
  },
  {
   "cell_type": "code",
   "execution_count": null,
   "metadata": {},
   "outputs": [],
   "source": []
  },
  {
   "cell_type": "code",
   "execution_count": null,
   "metadata": {},
   "outputs": [],
   "source": []
  },
  {
   "cell_type": "code",
   "execution_count": null,
   "metadata": {},
   "outputs": [],
   "source": []
  },
  {
   "cell_type": "code",
   "execution_count": null,
   "metadata": {},
   "outputs": [],
   "source": []
  },
  {
   "cell_type": "code",
   "execution_count": null,
   "metadata": {},
   "outputs": [],
   "source": []
  },
  {
   "cell_type": "code",
   "execution_count": null,
   "metadata": {},
   "outputs": [],
   "source": []
  },
  {
   "cell_type": "code",
   "execution_count": null,
   "metadata": {},
   "outputs": [],
   "source": []
  },
  {
   "cell_type": "code",
   "execution_count": null,
   "metadata": {},
   "outputs": [],
   "source": []
  },
  {
   "cell_type": "code",
   "execution_count": null,
   "metadata": {},
   "outputs": [],
   "source": []
  },
  {
   "cell_type": "code",
   "execution_count": null,
   "metadata": {},
   "outputs": [],
   "source": []
  },
  {
   "cell_type": "code",
   "execution_count": null,
   "metadata": {},
   "outputs": [],
   "source": []
  },
  {
   "cell_type": "code",
   "execution_count": null,
   "metadata": {},
   "outputs": [],
   "source": []
  },
  {
   "cell_type": "code",
   "execution_count": null,
   "metadata": {},
   "outputs": [],
   "source": []
  },
  {
   "cell_type": "code",
   "execution_count": null,
   "metadata": {},
   "outputs": [],
   "source": []
  },
  {
   "cell_type": "code",
   "execution_count": null,
   "metadata": {},
   "outputs": [],
   "source": []
  },
  {
   "cell_type": "code",
   "execution_count": null,
   "metadata": {},
   "outputs": [],
   "source": []
  },
  {
   "cell_type": "code",
   "execution_count": null,
   "metadata": {},
   "outputs": [],
   "source": []
  },
  {
   "cell_type": "code",
   "execution_count": null,
   "metadata": {},
   "outputs": [],
   "source": []
  },
  {
   "cell_type": "code",
   "execution_count": null,
   "metadata": {},
   "outputs": [],
   "source": []
  },
  {
   "cell_type": "code",
   "execution_count": null,
   "metadata": {},
   "outputs": [],
   "source": []
  },
  {
   "cell_type": "code",
   "execution_count": null,
   "metadata": {},
   "outputs": [],
   "source": []
  }
 ],
 "metadata": {
  "kernelspec": {
   "display_name": "Python 3.8.5 64-bit ('base': conda)",
   "language": "python",
   "name": "python385jvsc74a57bd0319835f957630c771357c3efaa6b4b79bc6432da99993703c2ae49a22598a1c6"
  },
  "language_info": {
   "codemirror_mode": {
    "name": "ipython",
    "version": 3
   },
   "file_extension": ".py",
   "mimetype": "text/x-python",
   "name": "python",
   "nbconvert_exporter": "python",
   "pygments_lexer": "ipython3",
   "version": "3.8.8"
  },
  "metadata": {
   "interpreter": {
    "hash": "319835f957630c771357c3efaa6b4b79bc6432da99993703c2ae49a22598a1c6"
   }
  }
 },
 "nbformat": 4,
 "nbformat_minor": 4
}
